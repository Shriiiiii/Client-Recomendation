{
  "nbformat": 4,
  "nbformat_minor": 0,
  "metadata": {
    "colab": {
      "provenance": []
    },
    "kernelspec": {
      "name": "python3",
      "display_name": "Python 3"
    },
    "language_info": {
      "name": "python"
    }
  },
  "cells": [
    {
      "cell_type": "code",
      "execution_count": 5,
      "metadata": {
        "id": "HI3-cd6HziWk"
      },
      "outputs": [],
      "source": [
        "import numpy as np\n",
        "import pandas as pd\n",
        "import difflib\n",
        "from sklearn.feature_extraction.text import TfidfVectorizer\n",
        "from sklearn.metrics.pairwise import cosine_similarity"
      ]
    },
    {
      "cell_type": "code",
      "source": [
        "crescendo_data = pd.read_csv('/content/Machine Learning Model .csv')"
      ],
      "metadata": {
        "id": "EfYjd1C0ztm5"
      },
      "execution_count": 6,
      "outputs": []
    },
    {
      "cell_type": "code",
      "source": [
        "crescendo_data.head()"
      ],
      "metadata": {
        "colab": {
          "base_uri": "https://localhost:8080/",
          "height": 206
        },
        "id": "Y6moJ1Qj1DAQ",
        "outputId": "ea7be837-55e5-4c57-f6f3-3cebe95f1293"
      },
      "execution_count": 7,
      "outputs": [
        {
          "output_type": "execute_result",
          "data": {
            "text/plain": [
              "   index annual_tunover        country            product_name  \\\n",
              "0      0   20,00,00,000          Russia  Vacuum Toilet System    \n",
              "1      1   20,00,00,000           Italy  Vacuum Toilet System    \n",
              "2      2   20,00,00,000  Czech Republic  Vacuum Toilet System    \n",
              "3      3   20,00,00,000         Germany  Vacuum Toilet System    \n",
              "4      4   20,00,00,000  United Kingdom  Vacuum Toilet System    \n",
              "\n",
              "  type_of_co_operation foreign_company_name  \n",
              "0   Technology Venture              Taurus   \n",
              "1   Technology Venture         Intersys Srl  \n",
              "2   Technology Venture    TRATEC-CS s.r.o..  \n",
              "3   Technology Venture       Trainvac Group  \n",
              "4   Technology Venture   Birley Joinery Ltd  "
            ],
            "text/html": [
              "\n",
              "  <div id=\"df-ca87d71f-2cd5-4175-9a3c-ac724a688e17\">\n",
              "    <div class=\"colab-df-container\">\n",
              "      <div>\n",
              "<style scoped>\n",
              "    .dataframe tbody tr th:only-of-type {\n",
              "        vertical-align: middle;\n",
              "    }\n",
              "\n",
              "    .dataframe tbody tr th {\n",
              "        vertical-align: top;\n",
              "    }\n",
              "\n",
              "    .dataframe thead th {\n",
              "        text-align: right;\n",
              "    }\n",
              "</style>\n",
              "<table border=\"1\" class=\"dataframe\">\n",
              "  <thead>\n",
              "    <tr style=\"text-align: right;\">\n",
              "      <th></th>\n",
              "      <th>index</th>\n",
              "      <th>annual_tunover</th>\n",
              "      <th>country</th>\n",
              "      <th>product_name</th>\n",
              "      <th>type_of_co_operation</th>\n",
              "      <th>foreign_company_name</th>\n",
              "    </tr>\n",
              "  </thead>\n",
              "  <tbody>\n",
              "    <tr>\n",
              "      <th>0</th>\n",
              "      <td>0</td>\n",
              "      <td>20,00,00,000</td>\n",
              "      <td>Russia</td>\n",
              "      <td>Vacuum Toilet System</td>\n",
              "      <td>Technology Venture</td>\n",
              "      <td>Taurus</td>\n",
              "    </tr>\n",
              "    <tr>\n",
              "      <th>1</th>\n",
              "      <td>1</td>\n",
              "      <td>20,00,00,000</td>\n",
              "      <td>Italy</td>\n",
              "      <td>Vacuum Toilet System</td>\n",
              "      <td>Technology Venture</td>\n",
              "      <td>Intersys Srl</td>\n",
              "    </tr>\n",
              "    <tr>\n",
              "      <th>2</th>\n",
              "      <td>2</td>\n",
              "      <td>20,00,00,000</td>\n",
              "      <td>Czech Republic</td>\n",
              "      <td>Vacuum Toilet System</td>\n",
              "      <td>Technology Venture</td>\n",
              "      <td>TRATEC-CS s.r.o..</td>\n",
              "    </tr>\n",
              "    <tr>\n",
              "      <th>3</th>\n",
              "      <td>3</td>\n",
              "      <td>20,00,00,000</td>\n",
              "      <td>Germany</td>\n",
              "      <td>Vacuum Toilet System</td>\n",
              "      <td>Technology Venture</td>\n",
              "      <td>Trainvac Group</td>\n",
              "    </tr>\n",
              "    <tr>\n",
              "      <th>4</th>\n",
              "      <td>4</td>\n",
              "      <td>20,00,00,000</td>\n",
              "      <td>United Kingdom</td>\n",
              "      <td>Vacuum Toilet System</td>\n",
              "      <td>Technology Venture</td>\n",
              "      <td>Birley Joinery Ltd</td>\n",
              "    </tr>\n",
              "  </tbody>\n",
              "</table>\n",
              "</div>\n",
              "      <button class=\"colab-df-convert\" onclick=\"convertToInteractive('df-ca87d71f-2cd5-4175-9a3c-ac724a688e17')\"\n",
              "              title=\"Convert this dataframe to an interactive table.\"\n",
              "              style=\"display:none;\">\n",
              "        \n",
              "  <svg xmlns=\"http://www.w3.org/2000/svg\" height=\"24px\"viewBox=\"0 0 24 24\"\n",
              "       width=\"24px\">\n",
              "    <path d=\"M0 0h24v24H0V0z\" fill=\"none\"/>\n",
              "    <path d=\"M18.56 5.44l.94 2.06.94-2.06 2.06-.94-2.06-.94-.94-2.06-.94 2.06-2.06.94zm-11 1L8.5 8.5l.94-2.06 2.06-.94-2.06-.94L8.5 2.5l-.94 2.06-2.06.94zm10 10l.94 2.06.94-2.06 2.06-.94-2.06-.94-.94-2.06-.94 2.06-2.06.94z\"/><path d=\"M17.41 7.96l-1.37-1.37c-.4-.4-.92-.59-1.43-.59-.52 0-1.04.2-1.43.59L10.3 9.45l-7.72 7.72c-.78.78-.78 2.05 0 2.83L4 21.41c.39.39.9.59 1.41.59.51 0 1.02-.2 1.41-.59l7.78-7.78 2.81-2.81c.8-.78.8-2.07 0-2.86zM5.41 20L4 18.59l7.72-7.72 1.47 1.35L5.41 20z\"/>\n",
              "  </svg>\n",
              "      </button>\n",
              "      \n",
              "  <style>\n",
              "    .colab-df-container {\n",
              "      display:flex;\n",
              "      flex-wrap:wrap;\n",
              "      gap: 12px;\n",
              "    }\n",
              "\n",
              "    .colab-df-convert {\n",
              "      background-color: #E8F0FE;\n",
              "      border: none;\n",
              "      border-radius: 50%;\n",
              "      cursor: pointer;\n",
              "      display: none;\n",
              "      fill: #1967D2;\n",
              "      height: 32px;\n",
              "      padding: 0 0 0 0;\n",
              "      width: 32px;\n",
              "    }\n",
              "\n",
              "    .colab-df-convert:hover {\n",
              "      background-color: #E2EBFA;\n",
              "      box-shadow: 0px 1px 2px rgba(60, 64, 67, 0.3), 0px 1px 3px 1px rgba(60, 64, 67, 0.15);\n",
              "      fill: #174EA6;\n",
              "    }\n",
              "\n",
              "    [theme=dark] .colab-df-convert {\n",
              "      background-color: #3B4455;\n",
              "      fill: #D2E3FC;\n",
              "    }\n",
              "\n",
              "    [theme=dark] .colab-df-convert:hover {\n",
              "      background-color: #434B5C;\n",
              "      box-shadow: 0px 1px 3px 1px rgba(0, 0, 0, 0.15);\n",
              "      filter: drop-shadow(0px 1px 2px rgba(0, 0, 0, 0.3));\n",
              "      fill: #FFFFFF;\n",
              "    }\n",
              "  </style>\n",
              "\n",
              "      <script>\n",
              "        const buttonEl =\n",
              "          document.querySelector('#df-ca87d71f-2cd5-4175-9a3c-ac724a688e17 button.colab-df-convert');\n",
              "        buttonEl.style.display =\n",
              "          google.colab.kernel.accessAllowed ? 'block' : 'none';\n",
              "\n",
              "        async function convertToInteractive(key) {\n",
              "          const element = document.querySelector('#df-ca87d71f-2cd5-4175-9a3c-ac724a688e17');\n",
              "          const dataTable =\n",
              "            await google.colab.kernel.invokeFunction('convertToInteractive',\n",
              "                                                     [key], {});\n",
              "          if (!dataTable) return;\n",
              "\n",
              "          const docLinkHtml = 'Like what you see? Visit the ' +\n",
              "            '<a target=\"_blank\" href=https://colab.research.google.com/notebooks/data_table.ipynb>data table notebook</a>'\n",
              "            + ' to learn more about interactive tables.';\n",
              "          element.innerHTML = '';\n",
              "          dataTable['output_type'] = 'display_data';\n",
              "          await google.colab.output.renderOutput(dataTable, element);\n",
              "          const docLink = document.createElement('div');\n",
              "          docLink.innerHTML = docLinkHtml;\n",
              "          element.appendChild(docLink);\n",
              "        }\n",
              "      </script>\n",
              "    </div>\n",
              "  </div>\n",
              "  "
            ]
          },
          "metadata": {},
          "execution_count": 7
        }
      ]
    },
    {
      "cell_type": "code",
      "source": [
        "crescendo_data.shape"
      ],
      "metadata": {
        "colab": {
          "base_uri": "https://localhost:8080/"
        },
        "id": "w48vZ1u82D33",
        "outputId": "b4239914-7700-4d41-e32c-61a06e441bbd"
      },
      "execution_count": 8,
      "outputs": [
        {
          "output_type": "execute_result",
          "data": {
            "text/plain": [
              "(216, 6)"
            ]
          },
          "metadata": {},
          "execution_count": 8
        }
      ]
    },
    {
      "cell_type": "code",
      "source": [
        "selected_features = ['product_name','type_of_co_operation','annual_tunover']\n",
        "print(selected_features)"
      ],
      "metadata": {
        "colab": {
          "base_uri": "https://localhost:8080/"
        },
        "id": "VF6-PG3G2S2T",
        "outputId": "a952ec76-70b2-4b7c-d8d2-f3d5e2d38f50"
      },
      "execution_count": 9,
      "outputs": [
        {
          "output_type": "stream",
          "name": "stdout",
          "text": [
            "['product_name', 'type_of_co_operation', 'annual_tunover']\n"
          ]
        }
      ]
    },
    {
      "cell_type": "code",
      "source": [
        "combined_features = crescendo_data['product_name']+' '+crescendo_data['type_of_co_operation']+' '+crescendo_data['annual_tunover']"
      ],
      "metadata": {
        "id": "63vuaFgY3sh0"
      },
      "execution_count": 10,
      "outputs": []
    },
    {
      "cell_type": "code",
      "source": [
        "print(combined_features)"
      ],
      "metadata": {
        "colab": {
          "base_uri": "https://localhost:8080/"
        },
        "id": "p-4u2I5X4mFu",
        "outputId": "3c9b092b-942c-4a28-b44d-71f8d7614dfc"
      },
      "execution_count": 11,
      "outputs": [
        {
          "output_type": "stream",
          "name": "stdout",
          "text": [
            "0      Vacuum Toilet System  Technology Venture 20,00...\n",
            "1      Vacuum Toilet System  Technology Venture 20,00...\n",
            "2      Vacuum Toilet System  Technology Venture 20,00...\n",
            "3      Vacuum Toilet System  Technology Venture 20,00...\n",
            "4      Vacuum Toilet System  Technology Venture 20,00...\n",
            "                             ...                        \n",
            "211                     Casting OutSourcing 80,00,00,000\n",
            "212                     Casting OutSourcing 80,00,00,000\n",
            "213                     Casting OutSourcing 80,00,00,000\n",
            "214                     Casting OutSourcing 80,00,00,000\n",
            "215                     Casting OutSourcing 80,00,00,000\n",
            "Length: 216, dtype: object\n"
          ]
        }
      ]
    },
    {
      "cell_type": "code",
      "source": [
        "vectorizer = TfidfVectorizer()"
      ],
      "metadata": {
        "id": "RphqciBS4uwC"
      },
      "execution_count": 12,
      "outputs": []
    },
    {
      "cell_type": "code",
      "source": [
        "feature_vectors = vectorizer.fit_transform(combined_features)"
      ],
      "metadata": {
        "id": "r3A3aN1h4xol"
      },
      "execution_count": 13,
      "outputs": []
    },
    {
      "cell_type": "code",
      "source": [
        "print(feature_vectors)"
      ],
      "metadata": {
        "colab": {
          "base_uri": "https://localhost:8080/"
        },
        "id": "5zcUr0V-4031",
        "outputId": "a319be03-6c33-42c8-fb22-e2a2de919535"
      },
      "execution_count": 14,
      "outputs": [
        {
          "output_type": "stream",
          "name": "stdout",
          "text": [
            "  (0, 1)\t0.13807763065919307\n",
            "  (0, 0)\t0.27615526131838614\n",
            "  (0, 2)\t0.23188991855704888\n",
            "  (0, 20)\t0.3407582427519489\n",
            "  (0, 17)\t0.3407582427519489\n",
            "  (0, 16)\t0.4541172921990273\n",
            "  (0, 18)\t0.4541172921990273\n",
            "  (0, 19)\t0.4541172921990273\n",
            "  (1, 1)\t0.13807763065919307\n",
            "  (1, 0)\t0.27615526131838614\n",
            "  (1, 2)\t0.23188991855704888\n",
            "  (1, 20)\t0.3407582427519489\n",
            "  (1, 17)\t0.3407582427519489\n",
            "  (1, 16)\t0.4541172921990273\n",
            "  (1, 18)\t0.4541172921990273\n",
            "  (1, 19)\t0.4541172921990273\n",
            "  (2, 1)\t0.13807763065919307\n",
            "  (2, 0)\t0.27615526131838614\n",
            "  (2, 2)\t0.23188991855704888\n",
            "  (2, 20)\t0.3407582427519489\n",
            "  (2, 17)\t0.3407582427519489\n",
            "  (2, 16)\t0.4541172921990273\n",
            "  (2, 18)\t0.4541172921990273\n",
            "  (2, 19)\t0.4541172921990273\n",
            "  (3, 1)\t0.13807763065919307\n",
            "  :\t:\n",
            "  (211, 5)\t0.7292060768468791\n",
            "  (211, 13)\t0.26245236592584875\n",
            "  (211, 7)\t0.4254820802742275\n",
            "  (211, 1)\t0.20896997510409174\n",
            "  (211, 0)\t0.4179399502081835\n",
            "  (212, 5)\t0.7292060768468791\n",
            "  (212, 13)\t0.26245236592584875\n",
            "  (212, 7)\t0.4254820802742275\n",
            "  (212, 1)\t0.20896997510409174\n",
            "  (212, 0)\t0.4179399502081835\n",
            "  (213, 5)\t0.7292060768468791\n",
            "  (213, 13)\t0.26245236592584875\n",
            "  (213, 7)\t0.4254820802742275\n",
            "  (213, 1)\t0.20896997510409174\n",
            "  (213, 0)\t0.4179399502081835\n",
            "  (214, 5)\t0.7292060768468791\n",
            "  (214, 13)\t0.26245236592584875\n",
            "  (214, 7)\t0.4254820802742275\n",
            "  (214, 1)\t0.20896997510409174\n",
            "  (214, 0)\t0.4179399502081835\n",
            "  (215, 5)\t0.7292060768468791\n",
            "  (215, 13)\t0.26245236592584875\n",
            "  (215, 7)\t0.4254820802742275\n",
            "  (215, 1)\t0.20896997510409174\n",
            "  (215, 0)\t0.4179399502081835\n"
          ]
        }
      ]
    },
    {
      "cell_type": "code",
      "source": [
        "similarity = cosine_similarity(feature_vectors)"
      ],
      "metadata": {
        "id": "kpNMikGc465w"
      },
      "execution_count": 15,
      "outputs": []
    },
    {
      "cell_type": "code",
      "source": [
        "print(similarity)"
      ],
      "metadata": {
        "colab": {
          "base_uri": "https://localhost:8080/"
        },
        "id": "TharCwsq5B38",
        "outputId": "3b202509-93e5-4eab-bfed-1d21d7884db9"
      },
      "execution_count": 16,
      "outputs": [
        {
          "output_type": "stream",
          "name": "stdout",
          "text": [
            "[[1.        1.        1.        ... 0.1442704 0.1442704 0.1442704]\n",
            " [1.        1.        1.        ... 0.1442704 0.1442704 0.1442704]\n",
            " [1.        1.        1.        ... 0.1442704 0.1442704 0.1442704]\n",
            " ...\n",
            " [0.1442704 0.1442704 0.1442704 ... 1.        1.        1.       ]\n",
            " [0.1442704 0.1442704 0.1442704 ... 1.        1.        1.       ]\n",
            " [0.1442704 0.1442704 0.1442704 ... 1.        1.        1.       ]]\n"
          ]
        }
      ]
    },
    {
      "cell_type": "code",
      "source": [
        "print(similarity.shape)"
      ],
      "metadata": {
        "colab": {
          "base_uri": "https://localhost:8080/"
        },
        "id": "vlAMNxl75GCE",
        "outputId": "eb434442-6548-4580-ea4b-d4b93b8dec3f"
      },
      "execution_count": 17,
      "outputs": [
        {
          "output_type": "stream",
          "name": "stdout",
          "text": [
            "(216, 216)\n"
          ]
        }
      ]
    },
    {
      "cell_type": "code",
      "source": [
        "client_name = input(' Enter your favourite client name : ')"
      ],
      "metadata": {
        "colab": {
          "base_uri": "https://localhost:8080/"
        },
        "id": "K5k1-8625RgC",
        "outputId": "4b1b7eff-6206-44aa-f5be-fbe76be48c91"
      },
      "execution_count": 67,
      "outputs": [
        {
          "name": "stdout",
          "output_type": "stream",
          "text": [
            " Enter your favourite client name : ZF Group\n"
          ]
        }
      ]
    },
    {
      "cell_type": "code",
      "source": [
        "list_of_all_clients = crescendo_data['foreign_company_name'].tolist()\n",
        "print(list_of_all_clients)"
      ],
      "metadata": {
        "colab": {
          "base_uri": "https://localhost:8080/"
        },
        "id": "Oz12wh5551a-",
        "outputId": "69d96952-10ac-4628-d870-8fcc9ae25177"
      },
      "execution_count": 68,
      "outputs": [
        {
          "output_type": "stream",
          "name": "stdout",
          "text": [
            "['Taurus ', '  Intersys Srl', 'TRATEC-CS s.r.o..', 'Trainvac Group', 'Birley Joinery Ltd', 'ALNAL RAILWAY SYSTEMS', 'Festo', 'ZF Group', 'AVK Group', 'Siemens', 'Mitsubhisi Fuso Trucks ', 'SINDO KOREA', 'JTEKT France  ', 'Monmet Canada', 'CAPI GROUP ', 'Maruei Industries', 'Chikuma Japan', 'Sidem Romania ', 'Begas Motor Spain', 'Begas Motor Spain', 'STREPARAVA ITALY ', 'Motovario Italy', 'Sodecia ', 'Sidem Romania ', 'Newbay Foundry', 'Pobjeda', 'Fonder shell', 'VALEO', 'KNORR B', 'CAPI GROUP ', 'Cummins ', 'TNG ', 'BONFIGLIOLI', 'VINFAST ', 'SONALO HORIZONTE', 'JG AUTOMOTIVE', 'SOLENO', 'AMUFER', 'STREPARAVA ITALY ', 'JTEKT France  ', 'Cemmer Turkey ', 'Sidem Romania ', 'Mitsubhisi Fuso Trucks ', 'Teshika Co., Ltd.', 'AGCO', 'AGCO', 'AGCO', 'SINDO KOREA', 'Monmet Canada', 'Mitsubhisi Fuso Trucks ', 'JTEKT France  ', 'JTEKT France  ', 'Cemmer Turkey ', 'CAPI GROUP ITALY', 'Nabtech Engineering Ireland', 'Nabtech Engineering Ireland', 'Begas Motor Spain', 'JTEKT France  ', 'AGCO', 'DANA ', 'DANA ', 'DANA ', 'DANA ', 'DANA ', 'DANA ', 'TAURUS Group', 'Kinglon Group', 'Dana Incorporated ', 'Teknorot Turkey ', 'Teknorot Turkey ', 'Alnal Railway Systems', 'Maschio-Gaspardo', ' SC CAROMET SA', 'FerryTech pvt. ltd.', 'Alstom SA', 'Mercedes-Benz', 'Steel Products', 'Mahle', 'JTEKT JAPAN ', 'Cast Steel Products', 'Cast Steel Products', 'Chint Electric', 'Holley Tech', 'Nero Electronics', 'EMH metering ', 'Sanxing Medical Electric', 'Londian', 'calinmeter', 'Risesun', ' Radarking', 'Traktionssysteme Austria', 'MASATS S.A.', 'MASATS S.A.', 'Borgwarner', 'Bonfiglioli ', 'Fuji Electric Global', 'Stadler Rail', 'Borgwarner', 'Comer Industries ', 'Marelli', 'Ege EndÃ¼stri', 'hubbell', 'Borgwarner', ' Techtronic Industries Co. Ltd. ', 'Ege EndÃ¼stri', 'Comer Industries ', 'JG Automotive', 'Rollix-defontaine', 'Tridec', 'Sisamex', 'Enorossi ', 'Sumitomo Drive Technology', 'sermac pumps', 'Winkelmann Group', 'Sisamex', 'Katsa', 'Teknorot', 'Techtronic Industries Co. Ltd. ', 'Mercedes Benz', 'Komatsu KVX LLC', 'Sanden Corporation ', 'Ege EndÃ¼stri', 'Sanden Corporation ', 'Tenneco Inc', 'Base Studio', 'Teknorot - Steering and Suspension Parts', 'Dana', 'Gabriel', 'Dana', 'JG Automotive', 'MASATS S.A.', 'Bonfiglioli', 'Vibracoustic', 'JG Automotive', 'CHINT, CHINA', 'Sanxsing', 'Imfuyo', ' TÅ½V GREDELJ d.o.o.', 'JIANGSU RAILTECO EQUIPMENT CO., LTD.', 'Å\\xa0invoz d.o.o. ', 'Intersys S.r.l.', 'Taurus', 'DOORspec inc. ', ' Univance Corporation', 'Mitsubishi Turbocharger Asia Co. Ltd.', 'comer industries', 'allison transmission', 'Hoerbiger', 'Mitsubhishi Turbocharger', 'Meritor', 'Borgwarner', 'Ege Endustris', 'NTN Transmission', 'Allison Transmission', 'Punch Powertrain', 'TMT International', 'Strato Inc.', 'CRRC Qingdao Sifang Rolling Stock Research Institute Co., Ltd.', 'NTC Kurus', 'RIST LLC', 'Alnal Railway Systems', 'TMT International', 'Siyahamba Engineering', 'Imfuyo Projects (Pty) Ltd', 'Fuji Electric', 'Siyahamba Engineering ', 'ELMESY s.r.o.', 'Tamware Oy AB', 'Siyahamba Engineering', 'Alnal Elektromekanik San.Tic.A.Åž.', 'AkÄ±n Makina', 'Greenbrier ', 'Akina Makina', 'Greenbrier', 'ALNAL RAILWAY SYSTEMS', 'Siyahamba Engineering ', 'MASATS S.A.', 'TRATEC-CS s.r.o..', 'IMFUYO', 'Greenbrier ', 'Akin Makina ', 'Greenbrier ', 'Akin Makina ', 'Naledi Ringrollers', 'Naledi Ringrollers', 'woosu', 'Evac-Train', 'Airpol', 'Denso', 'Motovario', 'Rossi SPA', 'Nexteeer Automotive', 'Bonfiglioli ', 'Comer Industries', 'Allison Transmission', 'Rossi SpA', 'Motovario S.p.A.', 'Brevini Power Transmission', 'Premium Transmission', 'BondioliPavesi', 'Dodge Industrial', 'DB Santaslo', 'Varvel', 'Transtecno', 'The Greenbrier Companies ', 'Birmingham Rail', 'Mc Conway', 'Alstom SA', 'EpowerRail', 'Jaxon', 'Hitachi Rail', 'Miner Enterprises', 'Talgo', 'Wabtec', 'Amsted Rail', 'LAF Lloyd']\n"
          ]
        }
      ]
    },
    {
      "cell_type": "code",
      "source": [
        "find_close_match = difflib.get_close_matches(client_name, list_of_all_clients)\n",
        "print(find_close_match)"
      ],
      "metadata": {
        "colab": {
          "base_uri": "https://localhost:8080/"
        },
        "id": "eHtbAiLI6Mns",
        "outputId": "8429d53d-6d42-45ca-ebd5-91e2d9e0ed17"
      },
      "execution_count": 69,
      "outputs": [
        {
          "output_type": "stream",
          "name": "stdout",
          "text": [
            "['ZF Group', 'AVK Group', 'TAURUS Group']\n"
          ]
        }
      ]
    },
    {
      "cell_type": "code",
      "source": [
        "close_match = find_close_match[0]\n",
        "print(close_match)"
      ],
      "metadata": {
        "colab": {
          "base_uri": "https://localhost:8080/"
        },
        "id": "Ym6oGzNi7Y4h",
        "outputId": "a82bd63f-03f0-4298-9f5f-aab28a001ce7"
      },
      "execution_count": 70,
      "outputs": [
        {
          "output_type": "stream",
          "name": "stdout",
          "text": [
            "ZF Group\n"
          ]
        }
      ]
    },
    {
      "cell_type": "code",
      "source": [
        "index_of_the_client = crescendo_data[crescendo_data.foreign_company_name == close_match]['index'].values[0]\n",
        "print(index_of_the_client)"
      ],
      "metadata": {
        "colab": {
          "base_uri": "https://localhost:8080/"
        },
        "id": "Ou55N45V7e_Z",
        "outputId": "fd8ecd6b-1d1a-4e61-d6e0-fe4e77cfa0cd"
      },
      "execution_count": 71,
      "outputs": [
        {
          "output_type": "stream",
          "name": "stdout",
          "text": [
            "7\n"
          ]
        }
      ]
    },
    {
      "cell_type": "code",
      "source": [
        "similarity_score = list(enumerate(similarity[index_of_the_client]))\n",
        "print(similarity_score)"
      ],
      "metadata": {
        "colab": {
          "base_uri": "https://localhost:8080/"
        },
        "id": "k76ewanK8Cbe",
        "outputId": "ee4bdd2e-5f4e-4dce-91e0-4aac995e41a6"
      },
      "execution_count": 72,
      "outputs": [
        {
          "output_type": "stream",
          "name": "stdout",
          "text": [
            "[(0, 0.1596465540346893), (1, 0.1596465540346893), (2, 0.1596465540346893), (3, 0.1596465540346893), (4, 0.1596465540346893), (5, 0.1596465540346893), (6, 1.0000000000000002), (7, 1.0000000000000002), (8, 1.0000000000000002), (9, 1.0000000000000002), (10, 0.3244557838964318), (11, 0.3244557838964318), (12, 0.3244557838964318), (13, 0.3244557838964318), (14, 0.3244557838964318), (15, 0.3244557838964318), (16, 0.3244557838964318), (17, 0.3244557838964318), (18, 0.3244557838964318), (19, 0.3244557838964318), (20, 0.3244557838964318), (21, 0.3244557838964318), (22, 0.3244557838964318), (23, 0.3244557838964318), (24, 1.0000000000000002), (25, 1.0000000000000002), (26, 1.0000000000000002), (27, 1.0000000000000002), (28, 1.0000000000000002), (29, 1.0000000000000002), (30, 1.0000000000000002), (31, 1.0000000000000002), (32, 1.0000000000000002), (33, 1.0000000000000002), (34, 1.0000000000000002), (35, 1.0000000000000002), (36, 1.0000000000000002), (37, 1.0000000000000002), (38, 0.3244557838964318), (39, 0.3244557838964318), (40, 0.3244557838964318), (41, 0.3244557838964318), (42, 0.3244557838964318), (43, 0.1596465540346893), (44, 0.3244557838964318), (45, 0.3244557838964318), (46, 0.3244557838964318), (47, 0.3244557838964318), (48, 0.3244557838964318), (49, 0.3244557838964318), (50, 0.3244557838964318), (51, 0.3244557838964318), (52, 0.3244557838964318), (53, 0.3244557838964318), (54, 0.3244557838964318), (55, 0.3244557838964318), (56, 0.3766910917053252), (57, 0.3766910917053252), (58, 1.0000000000000002), (59, 0.3766910917053252), (60, 0.3766910917053252), (61, 0.3766910917053252), (62, 0.3766910917053252), (63, 1.0000000000000002), (64, 1.0000000000000002), (65, 0.1596465540346893), (66, 1.0000000000000002), (67, 0.3766910917053252), (68, 0.3766910917053252), (69, 0.3766910917053252), (70, 0.1596465540346893), (71, 1.0000000000000002), (72, 1.0000000000000002), (73, 1.0000000000000002), (74, 1.0000000000000002), (75, 0.3766910917053252), (76, 0.3766910917053252), (77, 0.3766910917053252), (78, 0.3766910917053252), (79, 1.0000000000000002), (80, 1.0000000000000002), (81, 0.1428462390667037), (82, 0.1428462390667037), (83, 0.1428462390667037), (84, 0.1428462390667037), (85, 0.1428462390667037), (86, 0.1428462390667037), (87, 0.1428462390667037), (88, 0.1428462390667037), (89, 0.1428462390667037), (90, 1.0000000000000002), (91, 0.17360641895359616), (92, 0.17360641895359616), (93, 0.3766910917053252), (94, 0.3766910917053252), (95, 0.17360641895359616), (96, 1.0000000000000002), (97, 0.3766910917053252), (98, 0.3766910917053252), (99, 0.3766910917053252), (100, 0.3766910917053252), (101, 0.3766910917053252), (102, 0.3766910917053252), (103, 0.3766910917053252), (104, 0.3766910917053252), (105, 0.3766910917053252), (106, 0.3766910917053252), (107, 0.3766910917053252), (108, 0.3766910917053252), (109, 0.3766910917053252), (110, 1.0000000000000002), (111, 1.0000000000000002), (112, 1.0000000000000002), (113, 0.3766910917053252), (114, 0.3766910917053252), (115, 0.3766910917053252), (116, 0.3766910917053252), (117, 0.3766910917053252), (118, 0.3766910917053252), (119, 0.3766910917053252), (120, 0.3766910917053252), (121, 0.3766910917053252), (122, 0.3766910917053252), (123, 0.3766910917053252), (124, 0.3766910917053252), (125, 1.0000000000000002), (126, 0.3766910917053252), (127, 0.3766910917053252), (128, 0.3766910917053252), (129, 0.3766910917053252), (130, 0.17360641895359616), (131, 0.3766910917053252), (132, 0.3766910917053252), (133, 0.3766910917053252), (134, 0.1428462390667037), (135, 0.1428462390667037), (136, 0.17360641895359616), (137, 0.548073990342969), (138, 0.548073990342969), (139, 0.548073990342969), (140, 0.1596465540346893), (141, 0.1596465540346893), (142, 0.17360641895359616), (143, 0.3766910917053252), (144, 0.548073990342969), (145, 0.3766910917053252), (146, 0.3766910917053252), (147, 0.3766910917053252), (148, 0.3766910917053252), (149, 0.3766910917053252), (150, 0.3766910917053252), (151, 0.3766910917053252), (152, 0.3766910917053252), (153, 0.3766910917053252), (154, 0.3766910917053252), (155, 0.1596465540346893), (156, 0.1596465540346893), (157, 0.1596465540346893), (158, 0.1596465540346893), (159, 0.1596465540346893), (160, 0.1596465540346893), (161, 0.17360641895359616), (162, 0.17360641895359616), (163, 0.17360641895359616), (164, 0.17360641895359616), (165, 0.17360641895359616), (166, 0.17360641895359616), (167, 0.17360641895359616), (168, 0.17360641895359616), (169, 0.1596465540346893), (170, 0.3766910917053252), (171, 0.3766910917053252), (172, 0.548073990342969), (173, 0.548073990342969), (174, 0.1596465540346893), (175, 0.17360641895359616), (176, 0.17360641895359616), (177, 0.1596465540346893), (178, 0.17360641895359616), (179, 0.548073990342969), (180, 0.548073990342969), (181, 0.548073990342969), (182, 0.548073990342969), (183, 0.548073990342969), (184, 0.548073990342969), (185, 0.548073990342969), (186, 0.1596465540346893), (187, 0.548073990342969), (188, 0.548073990342969), (189, 0.548073990342969), (190, 0.548073990342969), (191, 0.548073990342969), (192, 0.548073990342969), (193, 0.548073990342969), (194, 0.548073990342969), (195, 0.548073990342969), (196, 0.548073990342969), (197, 0.548073990342969), (198, 0.548073990342969), (199, 0.5181649042737756), (200, 0.5181649042737756), (201, 0.5181649042737756), (202, 0.5181649042737756), (203, 0.5181649042737756), (204, 0.5181649042737756), (205, 0.5181649042737756), (206, 0.5181649042737756), (207, 0.5181649042737756), (208, 0.5181649042737756), (209, 0.5181649042737756), (210, 0.5181649042737756), (211, 0.5181649042737756), (212, 0.5181649042737756), (213, 0.5181649042737756), (214, 0.5181649042737756), (215, 0.5181649042737756)]\n"
          ]
        }
      ]
    },
    {
      "cell_type": "code",
      "source": [
        "len(similarity_score)"
      ],
      "metadata": {
        "colab": {
          "base_uri": "https://localhost:8080/"
        },
        "id": "Oi6gSjQI8L-Q",
        "outputId": "a33620d9-6c0c-47d0-dd68-6d0826e04dda"
      },
      "execution_count": 73,
      "outputs": [
        {
          "output_type": "execute_result",
          "data": {
            "text/plain": [
              "216"
            ]
          },
          "metadata": {},
          "execution_count": 73
        }
      ]
    },
    {
      "cell_type": "code",
      "source": [
        "sorted_similar_clients = sorted(similarity_score, key = lambda x:x[1], reverse = True) \n",
        "print(sorted_similar_clients)"
      ],
      "metadata": {
        "colab": {
          "base_uri": "https://localhost:8080/"
        },
        "id": "vio6s0z98QV_",
        "outputId": "937c4774-a150-4109-f779-b0ad51389f5a"
      },
      "execution_count": 74,
      "outputs": [
        {
          "output_type": "stream",
          "name": "stdout",
          "text": [
            "[(6, 1.0000000000000002), (7, 1.0000000000000002), (8, 1.0000000000000002), (9, 1.0000000000000002), (24, 1.0000000000000002), (25, 1.0000000000000002), (26, 1.0000000000000002), (27, 1.0000000000000002), (28, 1.0000000000000002), (29, 1.0000000000000002), (30, 1.0000000000000002), (31, 1.0000000000000002), (32, 1.0000000000000002), (33, 1.0000000000000002), (34, 1.0000000000000002), (35, 1.0000000000000002), (36, 1.0000000000000002), (37, 1.0000000000000002), (58, 1.0000000000000002), (63, 1.0000000000000002), (64, 1.0000000000000002), (66, 1.0000000000000002), (71, 1.0000000000000002), (72, 1.0000000000000002), (73, 1.0000000000000002), (74, 1.0000000000000002), (79, 1.0000000000000002), (80, 1.0000000000000002), (90, 1.0000000000000002), (96, 1.0000000000000002), (110, 1.0000000000000002), (111, 1.0000000000000002), (112, 1.0000000000000002), (125, 1.0000000000000002), (137, 0.548073990342969), (138, 0.548073990342969), (139, 0.548073990342969), (144, 0.548073990342969), (172, 0.548073990342969), (173, 0.548073990342969), (179, 0.548073990342969), (180, 0.548073990342969), (181, 0.548073990342969), (182, 0.548073990342969), (183, 0.548073990342969), (184, 0.548073990342969), (185, 0.548073990342969), (187, 0.548073990342969), (188, 0.548073990342969), (189, 0.548073990342969), (190, 0.548073990342969), (191, 0.548073990342969), (192, 0.548073990342969), (193, 0.548073990342969), (194, 0.548073990342969), (195, 0.548073990342969), (196, 0.548073990342969), (197, 0.548073990342969), (198, 0.548073990342969), (199, 0.5181649042737756), (200, 0.5181649042737756), (201, 0.5181649042737756), (202, 0.5181649042737756), (203, 0.5181649042737756), (204, 0.5181649042737756), (205, 0.5181649042737756), (206, 0.5181649042737756), (207, 0.5181649042737756), (208, 0.5181649042737756), (209, 0.5181649042737756), (210, 0.5181649042737756), (211, 0.5181649042737756), (212, 0.5181649042737756), (213, 0.5181649042737756), (214, 0.5181649042737756), (215, 0.5181649042737756), (56, 0.3766910917053252), (57, 0.3766910917053252), (59, 0.3766910917053252), (60, 0.3766910917053252), (61, 0.3766910917053252), (62, 0.3766910917053252), (67, 0.3766910917053252), (68, 0.3766910917053252), (69, 0.3766910917053252), (75, 0.3766910917053252), (76, 0.3766910917053252), (77, 0.3766910917053252), (78, 0.3766910917053252), (93, 0.3766910917053252), (94, 0.3766910917053252), (97, 0.3766910917053252), (98, 0.3766910917053252), (99, 0.3766910917053252), (100, 0.3766910917053252), (101, 0.3766910917053252), (102, 0.3766910917053252), (103, 0.3766910917053252), (104, 0.3766910917053252), (105, 0.3766910917053252), (106, 0.3766910917053252), (107, 0.3766910917053252), (108, 0.3766910917053252), (109, 0.3766910917053252), (113, 0.3766910917053252), (114, 0.3766910917053252), (115, 0.3766910917053252), (116, 0.3766910917053252), (117, 0.3766910917053252), (118, 0.3766910917053252), (119, 0.3766910917053252), (120, 0.3766910917053252), (121, 0.3766910917053252), (122, 0.3766910917053252), (123, 0.3766910917053252), (124, 0.3766910917053252), (126, 0.3766910917053252), (127, 0.3766910917053252), (128, 0.3766910917053252), (129, 0.3766910917053252), (131, 0.3766910917053252), (132, 0.3766910917053252), (133, 0.3766910917053252), (143, 0.3766910917053252), (145, 0.3766910917053252), (146, 0.3766910917053252), (147, 0.3766910917053252), (148, 0.3766910917053252), (149, 0.3766910917053252), (150, 0.3766910917053252), (151, 0.3766910917053252), (152, 0.3766910917053252), (153, 0.3766910917053252), (154, 0.3766910917053252), (170, 0.3766910917053252), (171, 0.3766910917053252), (10, 0.3244557838964318), (11, 0.3244557838964318), (12, 0.3244557838964318), (13, 0.3244557838964318), (14, 0.3244557838964318), (15, 0.3244557838964318), (16, 0.3244557838964318), (17, 0.3244557838964318), (18, 0.3244557838964318), (19, 0.3244557838964318), (20, 0.3244557838964318), (21, 0.3244557838964318), (22, 0.3244557838964318), (23, 0.3244557838964318), (38, 0.3244557838964318), (39, 0.3244557838964318), (40, 0.3244557838964318), (41, 0.3244557838964318), (42, 0.3244557838964318), (44, 0.3244557838964318), (45, 0.3244557838964318), (46, 0.3244557838964318), (47, 0.3244557838964318), (48, 0.3244557838964318), (49, 0.3244557838964318), (50, 0.3244557838964318), (51, 0.3244557838964318), (52, 0.3244557838964318), (53, 0.3244557838964318), (54, 0.3244557838964318), (55, 0.3244557838964318), (91, 0.17360641895359616), (92, 0.17360641895359616), (95, 0.17360641895359616), (130, 0.17360641895359616), (136, 0.17360641895359616), (142, 0.17360641895359616), (161, 0.17360641895359616), (162, 0.17360641895359616), (163, 0.17360641895359616), (164, 0.17360641895359616), (165, 0.17360641895359616), (166, 0.17360641895359616), (167, 0.17360641895359616), (168, 0.17360641895359616), (175, 0.17360641895359616), (176, 0.17360641895359616), (178, 0.17360641895359616), (0, 0.1596465540346893), (1, 0.1596465540346893), (2, 0.1596465540346893), (3, 0.1596465540346893), (4, 0.1596465540346893), (5, 0.1596465540346893), (43, 0.1596465540346893), (65, 0.1596465540346893), (70, 0.1596465540346893), (140, 0.1596465540346893), (141, 0.1596465540346893), (155, 0.1596465540346893), (156, 0.1596465540346893), (157, 0.1596465540346893), (158, 0.1596465540346893), (159, 0.1596465540346893), (160, 0.1596465540346893), (169, 0.1596465540346893), (174, 0.1596465540346893), (177, 0.1596465540346893), (186, 0.1596465540346893), (81, 0.1428462390667037), (82, 0.1428462390667037), (83, 0.1428462390667037), (84, 0.1428462390667037), (85, 0.1428462390667037), (86, 0.1428462390667037), (87, 0.1428462390667037), (88, 0.1428462390667037), (89, 0.1428462390667037), (134, 0.1428462390667037), (135, 0.1428462390667037)]\n"
          ]
        }
      ]
    },
    {
      "cell_type": "code",
      "source": [
        "# print the name of similar movies based on the index\n",
        "\n",
        "print('Movies suggested for you : \\n')\n",
        "\n",
        "i = 1\n",
        "\n",
        "for movie in sorted_similar_clients:\n",
        "  index = movie[0]\n",
        "  title_from_index = crescendo_data[crescendo_data.index==index]['foreign_company_name'].values[0]\n",
        "  co_operaion_from_index = crescendo_data[crescendo_data.index==index]['type_of_co_operation'].values[0]\n",
        "  product_name_from_index = crescendo_data[crescendo_data.index==index]['product_name'].values[0]\n",
        "  annual_turnover_from_index = crescendo_data[crescendo_data.index==index]['annual_tunover'].values[0]\n",
        "  if (i<30):\n",
        "    print(i, 'Company Name :-',title_from_index,':\\n Type of Co-operation :-',co_operaion_from_index,'\\n Type of Product they are Intrested to buy:-',product_name_from_index,'\\n Annual turnover of Buyer :-',annual_turnover_from_index)\n",
        "    i+=1"
      ],
      "metadata": {
        "id": "rLWjM9QD8ytt"
      },
      "execution_count": null,
      "outputs": []
    },
    {
      "cell_type": "code",
      "source": [
        "def recomend_suitable_clients(client_name):\n",
        "  find_close_match = difflib.get_close_matches(client_name, list_of_all_clients)\n",
        "  close_match = find_close_match[0]\n",
        "  index_of_the_client = crescendo_data[crescendo_data.foreign_company_name == close_match]['index'].values[0]\n",
        "  similarity_score = list(enumerate(similarity[index_of_the_client]))\n",
        "  sorted_similar_clients = sorted(similarity_score, key = lambda x:x[1], reverse = True) \n",
        "  print('Movies suggested for you : \\n')\n",
        "  i = 1\n",
        "  for movie in sorted_similar_clients:\n",
        "    index = movie[0]\n",
        "    title_from_index = crescendo_data[crescendo_data.index==index]['foreign_company_name'].values[0]\n",
        "    co_operaion_from_index = crescendo_data[crescendo_data.index==index]['type_of_co_operation'].values[0]\n",
        "    product_name_from_index = crescendo_data[crescendo_data.index==index]['product_name'].values[0]\n",
        "    annual_turnover_from_index = crescendo_data[crescendo_data.index==index]['annual_tunover'].values[0]\n",
        "    if (i<4):\n",
        "      print(i, 'Company Name :-',title_from_index,':\\n Type of Co-operation :-',co_operaion_from_index,'\\n Type of Product they are Intrested to buy:-',product_name_from_index,'\\n Annual turnover of Buyer :-',annual_turnover_from_index)\n",
        "      i+=1\n",
        "recomend_suitable_clients(input())"
      ],
      "metadata": {
        "id": "OQ73Cw9C_dhB",
        "colab": {
          "base_uri": "https://localhost:8080/"
        },
        "outputId": "f6e66fb8-9dfe-4a75-db41-1e35d45ff962"
      },
      "execution_count": 108,
      "outputs": [
        {
          "output_type": "stream",
          "name": "stdout",
          "text": [
            "Hitachi Rail\n",
            "Movies suggested for you : \n",
            "\n",
            "1 Company Name :- BondioliPavesi :\n",
            " Type of Co-operation :- OutSourcing \n",
            " Type of Product they are Intrested to buy:- Casting \n",
            " Annual turnover of Buyer :- 80,00,00,000\n",
            "2 Company Name :- Dodge Industrial :\n",
            " Type of Co-operation :- OutSourcing \n",
            " Type of Product they are Intrested to buy:- Casting \n",
            " Annual turnover of Buyer :- 80,00,00,000\n",
            "3 Company Name :- DB Santaslo :\n",
            " Type of Co-operation :- OutSourcing \n",
            " Type of Product they are Intrested to buy:- Casting \n",
            " Annual turnover of Buyer :- 80,00,00,000\n"
          ]
        }
      ]
    },
    {
      "cell_type": "code",
      "source": [
        "import pickle"
      ],
      "metadata": {
        "id": "KAQ97Xo72_Be"
      },
      "execution_count": 78,
      "outputs": []
    },
    {
      "cell_type": "code",
      "source": [
        "pickle.dump(crescendo_data,open(\"recomend_suitable_clients.pkl\",\"wb\"))\n",
        "pickle.dump(similarity,open(\"similarity.pkl\",\"wb\"))"
      ],
      "metadata": {
        "id": "xa9gTN9I3BnZ"
      },
      "execution_count": 109,
      "outputs": []
    }
  ]
}