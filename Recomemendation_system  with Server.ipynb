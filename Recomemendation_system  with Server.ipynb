{
 "cells": [
  {
   "cell_type": "code",
   "execution_count": 1,
   "id": "323cac45",
   "metadata": {},
   "outputs": [
    {
     "name": "stdout",
     "output_type": "stream",
     "text": [
      "Requirement already satisfied: mysql-connector-python in c:\\users\\admin\\anaconda3\\lib\\site-packages (8.0.31)\n",
      "Requirement already satisfied: protobuf<=3.20.1,>=3.11.0 in c:\\users\\admin\\anaconda3\\lib\\site-packages (from mysql-connector-python) (3.20.1)\n",
      "Note: you may need to restart the kernel to use updated packages.\n"
     ]
    }
   ],
   "source": [
    "pip install mysql-connector-python"
   ]
  },
  {
   "cell_type": "code",
   "execution_count": 2,
   "id": "09c27919",
   "metadata": {},
   "outputs": [],
   "source": [
    "import pandas as pd"
   ]
  },
  {
   "cell_type": "code",
   "execution_count": 3,
   "id": "bcadc25d",
   "metadata": {},
   "outputs": [
    {
     "name": "stdout",
     "output_type": "stream",
     "text": [
      "Connection Established.....\n"
     ]
    }
   ],
   "source": [
    "import mysql.connector\n",
    "conn=mysql.connector.connect(host='localhost',password='9890913287',user='root')\n",
    "\n",
    "if conn.is_connected():\n",
    "    print(\"Connection Established.....\")\n"
   ]
  },
  {
   "cell_type": "code",
   "execution_count": 4,
   "id": "fadf365e",
   "metadata": {},
   "outputs": [
    {
     "name": "stdout",
     "output_type": "stream",
     "text": [
      "('information_schema',)\n",
      "('king',)\n",
      "('mysql',)\n",
      "('pdb',)\n",
      "('performance_schema',)\n",
      "('sql_hr',)\n",
      "('sql_inventory',)\n",
      "('sql_invoicing',)\n",
      "('sql_store',)\n",
      "('sys',)\n"
     ]
    }
   ],
   "source": [
    "cur=conn.cursor()\n",
    "query=\"SHOW DATABASES\"\n",
    "cur.execute(query)\n",
    "data_bases=cur.fetchall()\n",
    "\n",
    "for data in data_bases:\n",
    "    print(data)"
   ]
  },
  {
   "cell_type": "code",
   "execution_count": 5,
   "id": "05957735",
   "metadata": {},
   "outputs": [
    {
     "name": "stdout",
     "output_type": "stream",
     "text": [
      "Connection Established.....\n",
      "('employees',)\n",
      "('machine_learning_model',)\n",
      "('offices',)\n"
     ]
    }
   ],
   "source": [
    "import mysql.connector\n",
    "conn=mysql.connector.connect(host='localhost',\n",
    "                             password='9890913287',\n",
    "                             user='root',\n",
    "                             database=\"sql_hr\")\n",
    "\n",
    "if conn.is_connected():\n",
    "    print(\"Connection Established.....\")\n",
    "\n",
    "cur=conn.cursor()\n",
    "query=\"show tables\"\n",
    "cur.execute(query)\n",
    "tables = cur.fetchall()\n",
    "\n",
    "for table in tables:\n",
    "    print(table)  "
   ]
  },
  {
   "cell_type": "code",
   "execution_count": 6,
   "id": "86f48396",
   "metadata": {},
   "outputs": [
    {
     "name": "stdout",
     "output_type": "stream",
     "text": [
      "(33391, \"D'arcy\", 'Nortunen', 'Account Executive', 62871, 37270, 1)\n",
      "(37270, 'Yovonnda', 'Magrannell', 'Executive Secretary', 63996, None, 10)\n",
      "(37851, 'Sayer', 'Matterson', 'Statistician III', 98926, 37270, 1)\n",
      "(40448, 'Mindy', 'Crissil', 'Staff Scientist', 94860, 37270, 1)\n",
      "(56274, 'Keriann', 'Alloisi', 'VP Marketing', 110150, 37270, 1)\n",
      "(63196, 'Alaster', 'Scutchin', 'Assistant Professor', 32179, 37270, 2)\n",
      "(67009, 'North', 'de Clerc', 'VP Product Management', 114257, 37270, 2)\n",
      "(67370, 'Elladine', 'Rising', 'Social Worker', 96767, 37270, 2)\n",
      "(68249, 'Nisse', 'Voysey', 'Financial Advisor', 52832, 37270, 2)\n",
      "(72540, 'Guthrey', 'Iacopetti', 'Office Assistant I', 117690, 37270, 3)\n",
      "(72913, 'Kass', 'Hefferan', 'Computer Systems Analyst IV', 96401, 37270, 3)\n",
      "(75900, 'Virge', 'Goodrum', 'Information Systems Manager', 54578, 37270, 3)\n",
      "(76196, 'Mirilla', 'Janowski', 'Cost Accountant', 119241, 37270, 3)\n",
      "(80529, 'Lynde', 'Aronson', 'Junior Executive', 77182, 37270, 4)\n",
      "(80679, 'Mildrid', 'Sokale', 'Geologist II', 67987, 37270, 4)\n",
      "(84791, 'Hazel', 'Tarbert', 'General Manager', 93760, 37270, 4)\n",
      "(95213, 'Cole', 'Kesterton', 'Pharmacist', 86119, 37270, 4)\n",
      "(96513, 'Theresa', 'Binney', 'Food Chemist', 47354, 37270, 5)\n",
      "(98374, 'Estrellita', 'Daleman', 'Staff Accountant IV', 70187, 37270, 5)\n",
      "(115357, 'Ivy', 'Fearey', 'Structural Engineer', 92710, 37270, 5)\n"
     ]
    }
   ],
   "source": [
    "import mysql.connector\n",
    "\n",
    "mydb = mysql.connector.connect(host='localhost',\n",
    "                             password='9890913287',\n",
    "                             user='root',\n",
    "                             database=\"sql_hr\"\n",
    ")\n",
    "\n",
    "mycursor = mydb.cursor()\n",
    "\n",
    "mycursor.execute(\"SELECT * FROM employees\")\n",
    "\n",
    "myresult = mycursor.fetchall()\n",
    "\n",
    "for x in myresult:\n",
    "  print(x)\n"
   ]
  },
  {
   "cell_type": "code",
   "execution_count": 7,
   "id": "2f3d0b38",
   "metadata": {},
   "outputs": [],
   "source": [
    "crescendo_datas='select * from machine_learning_model '"
   ]
  },
  {
   "cell_type": "code",
   "execution_count": 9,
   "id": "eb1ed10d",
   "metadata": {},
   "outputs": [
    {
     "name": "stderr",
     "output_type": "stream",
     "text": [
      "C:\\Users\\Admin\\anaconda3\\lib\\site-packages\\pandas\\io\\sql.py:762: UserWarning: pandas only support SQLAlchemy connectable(engine/connection) ordatabase string URI or sqlite3 DBAPI2 connectionother DBAPI2 objects are not tested, please consider using SQLAlchemy\n",
      "  warnings.warn(\n"
     ]
    },
    {
     "data": {
      "text/html": [
       "<div>\n",
       "<style scoped>\n",
       "    .dataframe tbody tr th:only-of-type {\n",
       "        vertical-align: middle;\n",
       "    }\n",
       "\n",
       "    .dataframe tbody tr th {\n",
       "        vertical-align: top;\n",
       "    }\n",
       "\n",
       "    .dataframe thead th {\n",
       "        text-align: right;\n",
       "    }\n",
       "</style>\n",
       "<table border=\"1\" class=\"dataframe\">\n",
       "  <thead>\n",
       "    <tr style=\"text-align: right;\">\n",
       "      <th></th>\n",
       "      <th>ï»¿index</th>\n",
       "      <th>annual_tunover</th>\n",
       "      <th>country</th>\n",
       "      <th>product_name</th>\n",
       "      <th>type_of_co_operation</th>\n",
       "      <th>foreign_company_name</th>\n",
       "    </tr>\n",
       "  </thead>\n",
       "  <tbody>\n",
       "    <tr>\n",
       "      <th>0</th>\n",
       "      <td>0</td>\n",
       "      <td>20,00,00,000</td>\n",
       "      <td>Russia</td>\n",
       "      <td>Vacuum Toilet System</td>\n",
       "      <td>Technology Venture</td>\n",
       "      <td>Taurus</td>\n",
       "    </tr>\n",
       "    <tr>\n",
       "      <th>1</th>\n",
       "      <td>1</td>\n",
       "      <td>20,00,00,000</td>\n",
       "      <td>Italy</td>\n",
       "      <td>Vacuum Toilet System</td>\n",
       "      <td>Technology Venture</td>\n",
       "      <td>Intersys Srl</td>\n",
       "    </tr>\n",
       "    <tr>\n",
       "      <th>2</th>\n",
       "      <td>2</td>\n",
       "      <td>20,00,00,000</td>\n",
       "      <td>Czech Republic</td>\n",
       "      <td>Vacuum Toilet System</td>\n",
       "      <td>Technology Venture</td>\n",
       "      <td>TRATEC-CS s.r.o..</td>\n",
       "    </tr>\n",
       "    <tr>\n",
       "      <th>3</th>\n",
       "      <td>3</td>\n",
       "      <td>20,00,00,000</td>\n",
       "      <td>Germany</td>\n",
       "      <td>Vacuum Toilet System</td>\n",
       "      <td>Technology Venture</td>\n",
       "      <td>Trainvac Group</td>\n",
       "    </tr>\n",
       "    <tr>\n",
       "      <th>4</th>\n",
       "      <td>4</td>\n",
       "      <td>20,00,00,000</td>\n",
       "      <td>United Kingdom</td>\n",
       "      <td>Vacuum Toilet System</td>\n",
       "      <td>Technology Venture</td>\n",
       "      <td>Birley Joinery Ltd</td>\n",
       "    </tr>\n",
       "    <tr>\n",
       "      <th>...</th>\n",
       "      <td>...</td>\n",
       "      <td>...</td>\n",
       "      <td>...</td>\n",
       "      <td>...</td>\n",
       "      <td>...</td>\n",
       "      <td>...</td>\n",
       "    </tr>\n",
       "    <tr>\n",
       "      <th>211</th>\n",
       "      <td>211</td>\n",
       "      <td>80,00,00,000</td>\n",
       "      <td>United States</td>\n",
       "      <td>Casting</td>\n",
       "      <td>OutSourcing</td>\n",
       "      <td>Miner Enterprises</td>\n",
       "    </tr>\n",
       "    <tr>\n",
       "      <th>212</th>\n",
       "      <td>212</td>\n",
       "      <td>80,00,00,000</td>\n",
       "      <td>Spain</td>\n",
       "      <td>Casting</td>\n",
       "      <td>OutSourcing</td>\n",
       "      <td>Talgo</td>\n",
       "    </tr>\n",
       "    <tr>\n",
       "      <th>213</th>\n",
       "      <td>213</td>\n",
       "      <td>80,00,00,000</td>\n",
       "      <td>United States</td>\n",
       "      <td>Casting</td>\n",
       "      <td>OutSourcing</td>\n",
       "      <td>Wabtec</td>\n",
       "    </tr>\n",
       "    <tr>\n",
       "      <th>214</th>\n",
       "      <td>214</td>\n",
       "      <td>80,00,00,000</td>\n",
       "      <td>United States</td>\n",
       "      <td>Casting</td>\n",
       "      <td>OutSourcing</td>\n",
       "      <td>Amsted Rail</td>\n",
       "    </tr>\n",
       "    <tr>\n",
       "      <th>215</th>\n",
       "      <td>215</td>\n",
       "      <td>80,00,00,000</td>\n",
       "      <td>France</td>\n",
       "      <td>Casting</td>\n",
       "      <td>OutSourcing</td>\n",
       "      <td>LAF Lloyd</td>\n",
       "    </tr>\n",
       "  </tbody>\n",
       "</table>\n",
       "<p>216 rows × 6 columns</p>\n",
       "</div>"
      ],
      "text/plain": [
       "     ï»¿index annual_tunover         country           product_name  \\\n",
       "0           0   20,00,00,000          Russia  Vacuum Toilet System    \n",
       "1           1   20,00,00,000           Italy  Vacuum Toilet System    \n",
       "2           2   20,00,00,000  Czech Republic  Vacuum Toilet System    \n",
       "3           3   20,00,00,000         Germany  Vacuum Toilet System    \n",
       "4           4   20,00,00,000  United Kingdom  Vacuum Toilet System    \n",
       "..        ...            ...             ...                    ...   \n",
       "211       211   80,00,00,000   United States                Casting   \n",
       "212       212   80,00,00,000           Spain                Casting   \n",
       "213       213   80,00,00,000   United States                Casting   \n",
       "214       214   80,00,00,000   United States                Casting   \n",
       "215       215   80,00,00,000          France                Casting   \n",
       "\n",
       "    type_of_co_operation foreign_company_name  \n",
       "0     Technology Venture              Taurus   \n",
       "1     Technology Venture         Intersys Srl  \n",
       "2     Technology Venture    TRATEC-CS s.r.o..  \n",
       "3     Technology Venture       Trainvac Group  \n",
       "4     Technology Venture   Birley Joinery Ltd  \n",
       "..                   ...                  ...  \n",
       "211          OutSourcing    Miner Enterprises  \n",
       "212          OutSourcing                Talgo  \n",
       "213          OutSourcing               Wabtec  \n",
       "214          OutSourcing          Amsted Rail  \n",
       "215          OutSourcing            LAF Lloyd  \n",
       "\n",
       "[216 rows x 6 columns]"
      ]
     },
     "metadata": {},
     "output_type": "display_data"
    }
   ],
   "source": [
    "crescendo_data=pd.read_sql_query(crescendo_datas,mydb)\n",
    "display(crescendo_data)"
   ]
  },
  {
   "cell_type": "code",
   "execution_count": 10,
   "id": "6a9527ce",
   "metadata": {},
   "outputs": [],
   "source": [
    "import numpy as np\n",
    "import pandas as pd\n",
    "import difflib\n",
    "from sklearn.feature_extraction.text import TfidfVectorizer\n",
    "from sklearn.metrics.pairwise import cosine_similarity"
   ]
  },
  {
   "cell_type": "code",
   "execution_count": 11,
   "id": "ece6a8ce",
   "metadata": {},
   "outputs": [
    {
     "data": {
      "text/html": [
       "<div>\n",
       "<style scoped>\n",
       "    .dataframe tbody tr th:only-of-type {\n",
       "        vertical-align: middle;\n",
       "    }\n",
       "\n",
       "    .dataframe tbody tr th {\n",
       "        vertical-align: top;\n",
       "    }\n",
       "\n",
       "    .dataframe thead th {\n",
       "        text-align: right;\n",
       "    }\n",
       "</style>\n",
       "<table border=\"1\" class=\"dataframe\">\n",
       "  <thead>\n",
       "    <tr style=\"text-align: right;\">\n",
       "      <th></th>\n",
       "      <th>ï»¿index</th>\n",
       "      <th>annual_tunover</th>\n",
       "      <th>country</th>\n",
       "      <th>product_name</th>\n",
       "      <th>type_of_co_operation</th>\n",
       "      <th>foreign_company_name</th>\n",
       "    </tr>\n",
       "  </thead>\n",
       "  <tbody>\n",
       "    <tr>\n",
       "      <th>0</th>\n",
       "      <td>0</td>\n",
       "      <td>20,00,00,000</td>\n",
       "      <td>Russia</td>\n",
       "      <td>Vacuum Toilet System</td>\n",
       "      <td>Technology Venture</td>\n",
       "      <td>Taurus</td>\n",
       "    </tr>\n",
       "    <tr>\n",
       "      <th>1</th>\n",
       "      <td>1</td>\n",
       "      <td>20,00,00,000</td>\n",
       "      <td>Italy</td>\n",
       "      <td>Vacuum Toilet System</td>\n",
       "      <td>Technology Venture</td>\n",
       "      <td>Intersys Srl</td>\n",
       "    </tr>\n",
       "    <tr>\n",
       "      <th>2</th>\n",
       "      <td>2</td>\n",
       "      <td>20,00,00,000</td>\n",
       "      <td>Czech Republic</td>\n",
       "      <td>Vacuum Toilet System</td>\n",
       "      <td>Technology Venture</td>\n",
       "      <td>TRATEC-CS s.r.o..</td>\n",
       "    </tr>\n",
       "    <tr>\n",
       "      <th>3</th>\n",
       "      <td>3</td>\n",
       "      <td>20,00,00,000</td>\n",
       "      <td>Germany</td>\n",
       "      <td>Vacuum Toilet System</td>\n",
       "      <td>Technology Venture</td>\n",
       "      <td>Trainvac Group</td>\n",
       "    </tr>\n",
       "    <tr>\n",
       "      <th>4</th>\n",
       "      <td>4</td>\n",
       "      <td>20,00,00,000</td>\n",
       "      <td>United Kingdom</td>\n",
       "      <td>Vacuum Toilet System</td>\n",
       "      <td>Technology Venture</td>\n",
       "      <td>Birley Joinery Ltd</td>\n",
       "    </tr>\n",
       "  </tbody>\n",
       "</table>\n",
       "</div>"
      ],
      "text/plain": [
       "   ï»¿index annual_tunover         country           product_name  \\\n",
       "0         0   20,00,00,000          Russia  Vacuum Toilet System    \n",
       "1         1   20,00,00,000           Italy  Vacuum Toilet System    \n",
       "2         2   20,00,00,000  Czech Republic  Vacuum Toilet System    \n",
       "3         3   20,00,00,000         Germany  Vacuum Toilet System    \n",
       "4         4   20,00,00,000  United Kingdom  Vacuum Toilet System    \n",
       "\n",
       "  type_of_co_operation foreign_company_name  \n",
       "0   Technology Venture              Taurus   \n",
       "1   Technology Venture         Intersys Srl  \n",
       "2   Technology Venture    TRATEC-CS s.r.o..  \n",
       "3   Technology Venture       Trainvac Group  \n",
       "4   Technology Venture   Birley Joinery Ltd  "
      ]
     },
     "execution_count": 11,
     "metadata": {},
     "output_type": "execute_result"
    }
   ],
   "source": [
    "crescendo_data.head()"
   ]
  },
  {
   "cell_type": "code",
   "execution_count": 12,
   "id": "bc923225",
   "metadata": {},
   "outputs": [
    {
     "data": {
      "text/plain": [
       "(216, 6)"
      ]
     },
     "execution_count": 12,
     "metadata": {},
     "output_type": "execute_result"
    }
   ],
   "source": [
    "crescendo_data.shape"
   ]
  },
  {
   "cell_type": "code",
   "execution_count": 13,
   "id": "e2b740cc",
   "metadata": {},
   "outputs": [
    {
     "name": "stdout",
     "output_type": "stream",
     "text": [
      "['product_name', 'type_of_co_operation', 'annual_tunover']\n"
     ]
    }
   ],
   "source": [
    "selected_features = ['product_name','type_of_co_operation','annual_tunover']\n",
    "print(selected_features)"
   ]
  },
  {
   "cell_type": "code",
   "execution_count": 14,
   "id": "f25b8a8c",
   "metadata": {},
   "outputs": [],
   "source": [
    "combined_features = crescendo_data['product_name']+' '+crescendo_data['type_of_co_operation']+' '+crescendo_data['annual_tunover']"
   ]
  },
  {
   "cell_type": "code",
   "execution_count": 15,
   "id": "c613aac8",
   "metadata": {},
   "outputs": [
    {
     "name": "stdout",
     "output_type": "stream",
     "text": [
      "0      Vacuum Toilet System  Technology Venture 20,00...\n",
      "1      Vacuum Toilet System  Technology Venture 20,00...\n",
      "2      Vacuum Toilet System  Technology Venture 20,00...\n",
      "3      Vacuum Toilet System  Technology Venture 20,00...\n",
      "4      Vacuum Toilet System  Technology Venture 20,00...\n",
      "                             ...                        \n",
      "211                     Casting OutSourcing 80,00,00,000\n",
      "212                     Casting OutSourcing 80,00,00,000\n",
      "213                     Casting OutSourcing 80,00,00,000\n",
      "214                     Casting OutSourcing 80,00,00,000\n",
      "215                     Casting OutSourcing 80,00,00,000\n",
      "Length: 216, dtype: object\n"
     ]
    }
   ],
   "source": [
    "print(combined_features)"
   ]
  },
  {
   "cell_type": "code",
   "execution_count": 16,
   "id": "6a3c4817",
   "metadata": {},
   "outputs": [],
   "source": [
    "vectorizer = TfidfVectorizer()"
   ]
  },
  {
   "cell_type": "code",
   "execution_count": 17,
   "id": "ed1cc35f",
   "metadata": {},
   "outputs": [],
   "source": [
    "feature_vectors = vectorizer.fit_transform(combined_features)"
   ]
  },
  {
   "cell_type": "code",
   "execution_count": 18,
   "id": "1e8fc3ec",
   "metadata": {},
   "outputs": [
    {
     "name": "stdout",
     "output_type": "stream",
     "text": [
      "  (0, 1)\t0.13807763065919307\n",
      "  (0, 0)\t0.27615526131838614\n",
      "  (0, 2)\t0.23188991855704888\n",
      "  (0, 20)\t0.3407582427519489\n",
      "  (0, 17)\t0.3407582427519489\n",
      "  (0, 16)\t0.4541172921990273\n",
      "  (0, 18)\t0.4541172921990273\n",
      "  (0, 19)\t0.4541172921990273\n",
      "  (1, 1)\t0.13807763065919307\n",
      "  (1, 0)\t0.27615526131838614\n",
      "  (1, 2)\t0.23188991855704888\n",
      "  (1, 20)\t0.3407582427519489\n",
      "  (1, 17)\t0.3407582427519489\n",
      "  (1, 16)\t0.4541172921990273\n",
      "  (1, 18)\t0.4541172921990273\n",
      "  (1, 19)\t0.4541172921990273\n",
      "  (2, 1)\t0.13807763065919307\n",
      "  (2, 0)\t0.27615526131838614\n",
      "  (2, 2)\t0.23188991855704888\n",
      "  (2, 20)\t0.3407582427519489\n",
      "  (2, 17)\t0.3407582427519489\n",
      "  (2, 16)\t0.4541172921990273\n",
      "  (2, 18)\t0.4541172921990273\n",
      "  (2, 19)\t0.4541172921990273\n",
      "  (3, 1)\t0.13807763065919307\n",
      "  :\t:\n",
      "  (211, 5)\t0.7292060768468791\n",
      "  (211, 13)\t0.26245236592584875\n",
      "  (211, 7)\t0.4254820802742275\n",
      "  (211, 1)\t0.20896997510409174\n",
      "  (211, 0)\t0.4179399502081835\n",
      "  (212, 5)\t0.7292060768468791\n",
      "  (212, 13)\t0.26245236592584875\n",
      "  (212, 7)\t0.4254820802742275\n",
      "  (212, 1)\t0.20896997510409174\n",
      "  (212, 0)\t0.4179399502081835\n",
      "  (213, 5)\t0.7292060768468791\n",
      "  (213, 13)\t0.26245236592584875\n",
      "  (213, 7)\t0.4254820802742275\n",
      "  (213, 1)\t0.20896997510409174\n",
      "  (213, 0)\t0.4179399502081835\n",
      "  (214, 5)\t0.7292060768468791\n",
      "  (214, 13)\t0.26245236592584875\n",
      "  (214, 7)\t0.4254820802742275\n",
      "  (214, 1)\t0.20896997510409174\n",
      "  (214, 0)\t0.4179399502081835\n",
      "  (215, 5)\t0.7292060768468791\n",
      "  (215, 13)\t0.26245236592584875\n",
      "  (215, 7)\t0.4254820802742275\n",
      "  (215, 1)\t0.20896997510409174\n",
      "  (215, 0)\t0.4179399502081835\n"
     ]
    }
   ],
   "source": [
    "print(feature_vectors)"
   ]
  },
  {
   "cell_type": "code",
   "execution_count": 19,
   "id": "470dea93",
   "metadata": {},
   "outputs": [],
   "source": [
    "similarity = cosine_similarity(feature_vectors)"
   ]
  },
  {
   "cell_type": "code",
   "execution_count": 20,
   "id": "52298e95",
   "metadata": {},
   "outputs": [
    {
     "name": "stdout",
     "output_type": "stream",
     "text": [
      "[[1.        1.        1.        ... 0.1442704 0.1442704 0.1442704]\n",
      " [1.        1.        1.        ... 0.1442704 0.1442704 0.1442704]\n",
      " [1.        1.        1.        ... 0.1442704 0.1442704 0.1442704]\n",
      " ...\n",
      " [0.1442704 0.1442704 0.1442704 ... 1.        1.        1.       ]\n",
      " [0.1442704 0.1442704 0.1442704 ... 1.        1.        1.       ]\n",
      " [0.1442704 0.1442704 0.1442704 ... 1.        1.        1.       ]]\n"
     ]
    }
   ],
   "source": [
    "print(similarity)"
   ]
  },
  {
   "cell_type": "code",
   "execution_count": 21,
   "id": "2c17a6a1",
   "metadata": {},
   "outputs": [
    {
     "name": "stdout",
     "output_type": "stream",
     "text": [
      "(216, 216)\n"
     ]
    }
   ],
   "source": [
    "print(similarity.shape)"
   ]
  },
  {
   "cell_type": "code",
   "execution_count": 22,
   "id": "0e49548d",
   "metadata": {},
   "outputs": [
    {
     "name": "stdout",
     "output_type": "stream",
     "text": [
      " Enter your favourite client name : ZF group\n"
     ]
    }
   ],
   "source": [
    "client_name = input(' Enter your favourite client name : ')"
   ]
  },
  {
   "cell_type": "code",
   "execution_count": 23,
   "id": "589035eb",
   "metadata": {},
   "outputs": [
    {
     "name": "stdout",
     "output_type": "stream",
     "text": [
      "['Taurus ', '  Intersys Srl', 'TRATEC-CS s.r.o..', 'Trainvac Group', 'Birley Joinery Ltd', 'ALNAL RAILWAY SYSTEMS', 'Festo', 'ZF Group', 'AVK Group', 'Siemens', 'Mitsubhisi Fuso Trucks ', 'SINDO KOREA', 'JTEKT France  ', 'Monmet Canada', 'CAPI GROUP ', 'Maruei Industries', 'Chikuma Japan', 'Sidem Romania ', 'Begas Motor Spain', 'Begas Motor Spain', 'STREPARAVA ITALY ', 'Motovario Italy', 'Sodecia ', 'Sidem Romania ', 'Newbay Foundry', 'Pobjeda', 'Fonder shell', 'VALEO', 'KNORR B', 'CAPI GROUP ', 'Cummins ', 'TNG ', 'BONFIGLIOLI', 'VINFAST ', 'SONALO HORIZONTE', 'JG AUTOMOTIVE', 'SOLENO', 'AMUFER', 'STREPARAVA ITALY ', 'JTEKT France  ', 'Cemmer Turkey ', 'Sidem Romania ', 'Mitsubhisi Fuso Trucks ', 'Teshika Co., Ltd.', 'AGCO', 'AGCO', 'AGCO', 'SINDO KOREA', 'Monmet Canada', 'Mitsubhisi Fuso Trucks ', 'JTEKT France  ', 'JTEKT France  ', 'Cemmer Turkey ', 'CAPI GROUP ITALY', 'Nabtech Engineering Ireland', 'Nabtech Engineering Ireland', 'Begas Motor Spain', 'JTEKT France  ', 'AGCO', 'DANA ', 'DANA ', 'DANA ', 'DANA ', 'DANA ', 'DANA ', 'TAURUS Group', 'Kinglon Group', 'Dana Incorporated ', 'Teknorot Turkey ', 'Teknorot Turkey ', 'Alnal Railway Systems', 'Maschio-Gaspardo', ' SC CAROMET SA', 'FerryTech pvt. ltd.', 'Alstom SA', 'Mercedes-Benz', 'Steel Products', 'Mahle', 'JTEKT JAPAN ', 'Cast Steel Products', 'Cast Steel Products', 'Chint Electric', 'Holley Tech', 'Nero Electronics', 'EMH metering ', 'Sanxing Medical Electric', 'Londian', 'calinmeter', 'Risesun', ' Radarking', 'Traktionssysteme Austria', 'MASATS S.A.', 'MASATS S.A.', 'Borgwarner', 'Bonfiglioli ', 'Fuji Electric Global', 'Stadler Rail', 'Borgwarner', 'Comer Industries ', 'Marelli', 'Ege EndÃƒÂ¼stri', 'hubbell', 'Borgwarner', ' Techtronic Industries Co. Ltd. ', 'Ege EndÃƒÂ¼stri', 'Comer Industries ', 'JG Automotive', 'Rollix-defontaine', 'Tridec', 'Sisamex', 'Enorossi ', 'Sumitomo Drive Technology', 'sermac pumps', 'Winkelmann Group', 'Sisamex', 'Katsa', 'Teknorot', 'Techtronic Industries Co. Ltd. ', 'Mercedes Benz', 'Komatsu KVX LLC', 'Sanden Corporation ', 'Ege EndÃƒÂ¼stri', 'Sanden Corporation ', 'Tenneco Inc', 'Base Studio', 'Teknorot - Steering and Suspension Parts', 'Dana', 'Gabriel', 'Dana', 'JG Automotive', 'MASATS S.A.', 'Bonfiglioli', 'Vibracoustic', 'JG Automotive', 'CHINT, CHINA', 'Sanxsing', 'Imfuyo', ' TÃ…Â½V GREDELJ d.o.o.', 'JIANGSU RAILTECO EQUIPMENT CO., LTD.', 'Ã…Â\\xa0invoz d.o.o. ', 'Intersys S.r.l.', 'Taurus', 'DOORspec inc. ', ' Univance Corporation', 'Mitsubishi Turbocharger Asia Co. Ltd.', 'comer industries', 'allison transmission', 'Hoerbiger', 'Mitsubhishi Turbocharger', 'Meritor', 'Borgwarner', 'Ege Endustris', 'NTN Transmission', 'Allison Transmission', 'Punch Powertrain', 'TMT International', 'Strato Inc.', 'CRRC Qingdao Sifang Rolling Stock Research Institute Co., Ltd.', 'NTC Kurus', 'RIST LLC', 'Alnal Railway Systems', 'TMT International', 'Siyahamba Engineering', 'Imfuyo Projects (Pty) Ltd', 'Fuji Electric', 'Siyahamba Engineering ', 'ELMESY s.r.o.', 'Tamware Oy AB', 'Siyahamba Engineering', 'Alnal Elektromekanik San.Tic.A.Ã…Å¾.', 'AkÃ„Â±n Makina', 'Greenbrier ', 'Akina Makina', 'Greenbrier', 'ALNAL RAILWAY SYSTEMS', 'Siyahamba Engineering ', 'MASATS S.A.', 'TRATEC-CS s.r.o..', 'IMFUYO', 'Greenbrier ', 'Akin Makina ', 'Greenbrier ', 'Akin Makina ', 'Naledi Ringrollers', 'Naledi Ringrollers', 'woosu', 'Evac-Train', 'Airpol', 'Denso', 'Motovario', 'Rossi SPA', 'Nexteeer Automotive', 'Bonfiglioli ', 'Comer Industries', 'Allison Transmission', 'Rossi SpA', 'Motovario S.p.A.', 'Brevini Power Transmission', 'Premium Transmission', 'BondioliPavesi', 'Dodge Industrial', 'DB Santaslo', 'Varvel', 'Transtecno', 'The Greenbrier Companies ', 'Birmingham Rail', 'Mc Conway', 'Alstom SA', 'EpowerRail', 'Jaxon', 'Hitachi Rail', 'Miner Enterprises', 'Talgo', 'Wabtec', 'Amsted Rail', 'LAF Lloyd']\n"
     ]
    }
   ],
   "source": [
    "list_of_all_clients = crescendo_data['foreign_company_name'].tolist()\n",
    "print(list_of_all_clients)"
   ]
  },
  {
   "cell_type": "code",
   "execution_count": 24,
   "id": "03809615",
   "metadata": {},
   "outputs": [
    {
     "name": "stdout",
     "output_type": "stream",
     "text": [
      "['ZF Group']\n"
     ]
    }
   ],
   "source": [
    "find_close_match = difflib.get_close_matches(client_name, list_of_all_clients)\n",
    "print(find_close_match)"
   ]
  },
  {
   "cell_type": "code",
   "execution_count": 25,
   "id": "fd7a121d",
   "metadata": {},
   "outputs": [
    {
     "name": "stdout",
     "output_type": "stream",
     "text": [
      "ZF Group\n"
     ]
    }
   ],
   "source": [
    "close_match = find_close_match[0]\n",
    "print(close_match)"
   ]
  },
  {
   "cell_type": "code",
   "execution_count": 26,
   "id": "aeccd6a1",
   "metadata": {},
   "outputs": [
    {
     "name": "stdout",
     "output_type": "stream",
     "text": [
      "7\n"
     ]
    }
   ],
   "source": [
    "index_of_the_client = crescendo_data[crescendo_data.foreign_company_name == close_match]['ï»¿index'].values[0]\n",
    "print(index_of_the_client)"
   ]
  },
  {
   "cell_type": "code",
   "execution_count": 27,
   "id": "a6457813",
   "metadata": {},
   "outputs": [
    {
     "name": "stdout",
     "output_type": "stream",
     "text": [
      "[(0, 0.1596465540346893), (1, 0.1596465540346893), (2, 0.1596465540346893), (3, 0.1596465540346893), (4, 0.1596465540346893), (5, 0.1596465540346893), (6, 1.0000000000000002), (7, 1.0000000000000002), (8, 1.0000000000000002), (9, 1.0000000000000002), (10, 0.3244557838964318), (11, 0.3244557838964318), (12, 0.3244557838964318), (13, 0.3244557838964318), (14, 0.3244557838964318), (15, 0.3244557838964318), (16, 0.3244557838964318), (17, 0.3244557838964318), (18, 0.3244557838964318), (19, 0.3244557838964318), (20, 0.3244557838964318), (21, 0.3244557838964318), (22, 0.3244557838964318), (23, 0.3244557838964318), (24, 1.0000000000000002), (25, 1.0000000000000002), (26, 1.0000000000000002), (27, 1.0000000000000002), (28, 1.0000000000000002), (29, 1.0000000000000002), (30, 1.0000000000000002), (31, 1.0000000000000002), (32, 1.0000000000000002), (33, 1.0000000000000002), (34, 1.0000000000000002), (35, 1.0000000000000002), (36, 1.0000000000000002), (37, 1.0000000000000002), (38, 0.3244557838964318), (39, 0.3244557838964318), (40, 0.3244557838964318), (41, 0.3244557838964318), (42, 0.3244557838964318), (43, 0.1596465540346893), (44, 0.3244557838964318), (45, 0.3244557838964318), (46, 0.3244557838964318), (47, 0.3244557838964318), (48, 0.3244557838964318), (49, 0.3244557838964318), (50, 0.3244557838964318), (51, 0.3244557838964318), (52, 0.3244557838964318), (53, 0.3244557838964318), (54, 0.3244557838964318), (55, 0.3244557838964318), (56, 0.3766910917053252), (57, 0.3766910917053252), (58, 1.0000000000000002), (59, 0.3766910917053252), (60, 0.3766910917053252), (61, 0.3766910917053252), (62, 0.3766910917053252), (63, 1.0000000000000002), (64, 1.0000000000000002), (65, 0.1596465540346893), (66, 1.0000000000000002), (67, 0.3766910917053252), (68, 0.3766910917053252), (69, 0.3766910917053252), (70, 0.1596465540346893), (71, 1.0000000000000002), (72, 1.0000000000000002), (73, 1.0000000000000002), (74, 1.0000000000000002), (75, 0.3766910917053252), (76, 0.3766910917053252), (77, 0.3766910917053252), (78, 0.3766910917053252), (79, 1.0000000000000002), (80, 1.0000000000000002), (81, 0.1428462390667037), (82, 0.1428462390667037), (83, 0.1428462390667037), (84, 0.1428462390667037), (85, 0.1428462390667037), (86, 0.1428462390667037), (87, 0.1428462390667037), (88, 0.1428462390667037), (89, 0.1428462390667037), (90, 1.0000000000000002), (91, 0.17360641895359616), (92, 0.17360641895359616), (93, 0.3766910917053252), (94, 0.3766910917053252), (95, 0.17360641895359616), (96, 1.0000000000000002), (97, 0.3766910917053252), (98, 0.3766910917053252), (99, 0.3766910917053252), (100, 0.3766910917053252), (101, 0.3766910917053252), (102, 0.3766910917053252), (103, 0.3766910917053252), (104, 0.3766910917053252), (105, 0.3766910917053252), (106, 0.3766910917053252), (107, 0.3766910917053252), (108, 0.3766910917053252), (109, 0.3766910917053252), (110, 1.0000000000000002), (111, 1.0000000000000002), (112, 1.0000000000000002), (113, 0.3766910917053252), (114, 0.3766910917053252), (115, 0.3766910917053252), (116, 0.3766910917053252), (117, 0.3766910917053252), (118, 0.3766910917053252), (119, 0.3766910917053252), (120, 0.3766910917053252), (121, 0.3766910917053252), (122, 0.3766910917053252), (123, 0.3766910917053252), (124, 0.3766910917053252), (125, 1.0000000000000002), (126, 0.3766910917053252), (127, 0.3766910917053252), (128, 0.3766910917053252), (129, 0.3766910917053252), (130, 0.17360641895359616), (131, 0.3766910917053252), (132, 0.3766910917053252), (133, 0.3766910917053252), (134, 0.1428462390667037), (135, 0.1428462390667037), (136, 0.17360641895359616), (137, 0.548073990342969), (138, 0.548073990342969), (139, 0.548073990342969), (140, 0.1596465540346893), (141, 0.1596465540346893), (142, 0.17360641895359616), (143, 0.3766910917053252), (144, 0.548073990342969), (145, 0.3766910917053252), (146, 0.3766910917053252), (147, 0.3766910917053252), (148, 0.3766910917053252), (149, 0.3766910917053252), (150, 0.3766910917053252), (151, 0.3766910917053252), (152, 0.3766910917053252), (153, 0.3766910917053252), (154, 0.3766910917053252), (155, 0.1596465540346893), (156, 0.1596465540346893), (157, 0.1596465540346893), (158, 0.1596465540346893), (159, 0.1596465540346893), (160, 0.1596465540346893), (161, 0.17360641895359616), (162, 0.17360641895359616), (163, 0.17360641895359616), (164, 0.17360641895359616), (165, 0.17360641895359616), (166, 0.17360641895359616), (167, 0.17360641895359616), (168, 0.17360641895359616), (169, 0.1596465540346893), (170, 0.3766910917053252), (171, 0.3766910917053252), (172, 0.548073990342969), (173, 0.548073990342969), (174, 0.1596465540346893), (175, 0.17360641895359616), (176, 0.17360641895359616), (177, 0.1596465540346893), (178, 0.17360641895359616), (179, 0.548073990342969), (180, 0.548073990342969), (181, 0.548073990342969), (182, 0.548073990342969), (183, 0.548073990342969), (184, 0.548073990342969), (185, 0.548073990342969), (186, 0.1596465540346893), (187, 0.548073990342969), (188, 0.548073990342969), (189, 0.548073990342969), (190, 0.548073990342969), (191, 0.548073990342969), (192, 0.548073990342969), (193, 0.548073990342969), (194, 0.548073990342969), (195, 0.548073990342969), (196, 0.548073990342969), (197, 0.548073990342969), (198, 0.548073990342969), (199, 0.5181649042737756), (200, 0.5181649042737756), (201, 0.5181649042737756), (202, 0.5181649042737756), (203, 0.5181649042737756), (204, 0.5181649042737756), (205, 0.5181649042737756), (206, 0.5181649042737756), (207, 0.5181649042737756), (208, 0.5181649042737756), (209, 0.5181649042737756), (210, 0.5181649042737756), (211, 0.5181649042737756), (212, 0.5181649042737756), (213, 0.5181649042737756), (214, 0.5181649042737756), (215, 0.5181649042737756)]\n"
     ]
    }
   ],
   "source": [
    "similarity_score = list(enumerate(similarity[index_of_the_client]))\n",
    "print(similarity_score)"
   ]
  },
  {
   "cell_type": "code",
   "execution_count": 28,
   "id": "5c0d921a",
   "metadata": {},
   "outputs": [
    {
     "data": {
      "text/plain": [
       "216"
      ]
     },
     "execution_count": 28,
     "metadata": {},
     "output_type": "execute_result"
    }
   ],
   "source": [
    "len(similarity_score)"
   ]
  },
  {
   "cell_type": "code",
   "execution_count": 29,
   "id": "eaac301e",
   "metadata": {},
   "outputs": [
    {
     "name": "stdout",
     "output_type": "stream",
     "text": [
      "[(6, 1.0000000000000002), (7, 1.0000000000000002), (8, 1.0000000000000002), (9, 1.0000000000000002), (24, 1.0000000000000002), (25, 1.0000000000000002), (26, 1.0000000000000002), (27, 1.0000000000000002), (28, 1.0000000000000002), (29, 1.0000000000000002), (30, 1.0000000000000002), (31, 1.0000000000000002), (32, 1.0000000000000002), (33, 1.0000000000000002), (34, 1.0000000000000002), (35, 1.0000000000000002), (36, 1.0000000000000002), (37, 1.0000000000000002), (58, 1.0000000000000002), (63, 1.0000000000000002), (64, 1.0000000000000002), (66, 1.0000000000000002), (71, 1.0000000000000002), (72, 1.0000000000000002), (73, 1.0000000000000002), (74, 1.0000000000000002), (79, 1.0000000000000002), (80, 1.0000000000000002), (90, 1.0000000000000002), (96, 1.0000000000000002), (110, 1.0000000000000002), (111, 1.0000000000000002), (112, 1.0000000000000002), (125, 1.0000000000000002), (137, 0.548073990342969), (138, 0.548073990342969), (139, 0.548073990342969), (144, 0.548073990342969), (172, 0.548073990342969), (173, 0.548073990342969), (179, 0.548073990342969), (180, 0.548073990342969), (181, 0.548073990342969), (182, 0.548073990342969), (183, 0.548073990342969), (184, 0.548073990342969), (185, 0.548073990342969), (187, 0.548073990342969), (188, 0.548073990342969), (189, 0.548073990342969), (190, 0.548073990342969), (191, 0.548073990342969), (192, 0.548073990342969), (193, 0.548073990342969), (194, 0.548073990342969), (195, 0.548073990342969), (196, 0.548073990342969), (197, 0.548073990342969), (198, 0.548073990342969), (199, 0.5181649042737756), (200, 0.5181649042737756), (201, 0.5181649042737756), (202, 0.5181649042737756), (203, 0.5181649042737756), (204, 0.5181649042737756), (205, 0.5181649042737756), (206, 0.5181649042737756), (207, 0.5181649042737756), (208, 0.5181649042737756), (209, 0.5181649042737756), (210, 0.5181649042737756), (211, 0.5181649042737756), (212, 0.5181649042737756), (213, 0.5181649042737756), (214, 0.5181649042737756), (215, 0.5181649042737756), (56, 0.3766910917053252), (57, 0.3766910917053252), (59, 0.3766910917053252), (60, 0.3766910917053252), (61, 0.3766910917053252), (62, 0.3766910917053252), (67, 0.3766910917053252), (68, 0.3766910917053252), (69, 0.3766910917053252), (75, 0.3766910917053252), (76, 0.3766910917053252), (77, 0.3766910917053252), (78, 0.3766910917053252), (93, 0.3766910917053252), (94, 0.3766910917053252), (97, 0.3766910917053252), (98, 0.3766910917053252), (99, 0.3766910917053252), (100, 0.3766910917053252), (101, 0.3766910917053252), (102, 0.3766910917053252), (103, 0.3766910917053252), (104, 0.3766910917053252), (105, 0.3766910917053252), (106, 0.3766910917053252), (107, 0.3766910917053252), (108, 0.3766910917053252), (109, 0.3766910917053252), (113, 0.3766910917053252), (114, 0.3766910917053252), (115, 0.3766910917053252), (116, 0.3766910917053252), (117, 0.3766910917053252), (118, 0.3766910917053252), (119, 0.3766910917053252), (120, 0.3766910917053252), (121, 0.3766910917053252), (122, 0.3766910917053252), (123, 0.3766910917053252), (124, 0.3766910917053252), (126, 0.3766910917053252), (127, 0.3766910917053252), (128, 0.3766910917053252), (129, 0.3766910917053252), (131, 0.3766910917053252), (132, 0.3766910917053252), (133, 0.3766910917053252), (143, 0.3766910917053252), (145, 0.3766910917053252), (146, 0.3766910917053252), (147, 0.3766910917053252), (148, 0.3766910917053252), (149, 0.3766910917053252), (150, 0.3766910917053252), (151, 0.3766910917053252), (152, 0.3766910917053252), (153, 0.3766910917053252), (154, 0.3766910917053252), (170, 0.3766910917053252), (171, 0.3766910917053252), (10, 0.3244557838964318), (11, 0.3244557838964318), (12, 0.3244557838964318), (13, 0.3244557838964318), (14, 0.3244557838964318), (15, 0.3244557838964318), (16, 0.3244557838964318), (17, 0.3244557838964318), (18, 0.3244557838964318), (19, 0.3244557838964318), (20, 0.3244557838964318), (21, 0.3244557838964318), (22, 0.3244557838964318), (23, 0.3244557838964318), (38, 0.3244557838964318), (39, 0.3244557838964318), (40, 0.3244557838964318), (41, 0.3244557838964318), (42, 0.3244557838964318), (44, 0.3244557838964318), (45, 0.3244557838964318), (46, 0.3244557838964318), (47, 0.3244557838964318), (48, 0.3244557838964318), (49, 0.3244557838964318), (50, 0.3244557838964318), (51, 0.3244557838964318), (52, 0.3244557838964318), (53, 0.3244557838964318), (54, 0.3244557838964318), (55, 0.3244557838964318), (91, 0.17360641895359616), (92, 0.17360641895359616), (95, 0.17360641895359616), (130, 0.17360641895359616), (136, 0.17360641895359616), (142, 0.17360641895359616), (161, 0.17360641895359616), (162, 0.17360641895359616), (163, 0.17360641895359616), (164, 0.17360641895359616), (165, 0.17360641895359616), (166, 0.17360641895359616), (167, 0.17360641895359616), (168, 0.17360641895359616), (175, 0.17360641895359616), (176, 0.17360641895359616), (178, 0.17360641895359616), (0, 0.1596465540346893), (1, 0.1596465540346893), (2, 0.1596465540346893), (3, 0.1596465540346893), (4, 0.1596465540346893), (5, 0.1596465540346893), (43, 0.1596465540346893), (65, 0.1596465540346893), (70, 0.1596465540346893), (140, 0.1596465540346893), (141, 0.1596465540346893), (155, 0.1596465540346893), (156, 0.1596465540346893), (157, 0.1596465540346893), (158, 0.1596465540346893), (159, 0.1596465540346893), (160, 0.1596465540346893), (169, 0.1596465540346893), (174, 0.1596465540346893), (177, 0.1596465540346893), (186, 0.1596465540346893), (81, 0.1428462390667037), (82, 0.1428462390667037), (83, 0.1428462390667037), (84, 0.1428462390667037), (85, 0.1428462390667037), (86, 0.1428462390667037), (87, 0.1428462390667037), (88, 0.1428462390667037), (89, 0.1428462390667037), (134, 0.1428462390667037), (135, 0.1428462390667037)]\n"
     ]
    }
   ],
   "source": [
    "sorted_similar_clients = sorted(similarity_score, key = lambda x:x[1], reverse = True) \n",
    "print(sorted_similar_clients)"
   ]
  },
  {
   "cell_type": "code",
   "execution_count": 30,
   "id": "7ffcb2b9",
   "metadata": {},
   "outputs": [
    {
     "name": "stdout",
     "output_type": "stream",
     "text": [
      "Movies suggested for you : \n",
      "\n",
      "1 Company Name :- Festo :\n",
      " Type of Co-operation :- OutSourcing \n",
      " Type of Product they are Intrested to buy:- Casting  \n",
      " Annual turnover of Buyer :- 50,00,00,000\n",
      "2 Company Name :- ZF Group :\n",
      " Type of Co-operation :- OutSourcing \n",
      " Type of Product they are Intrested to buy:- Casting  \n",
      " Annual turnover of Buyer :- 50,00,00,000\n",
      "3 Company Name :- AVK Group :\n",
      " Type of Co-operation :- OutSourcing \n",
      " Type of Product they are Intrested to buy:- Casting  \n",
      " Annual turnover of Buyer :- 50,00,00,000\n",
      "4 Company Name :- Siemens :\n",
      " Type of Co-operation :- OutSourcing \n",
      " Type of Product they are Intrested to buy:- Casting  \n",
      " Annual turnover of Buyer :- 50,00,00,000\n",
      "5 Company Name :- Newbay Foundry :\n",
      " Type of Co-operation :- OutSourcing \n",
      " Type of Product they are Intrested to buy:- Casting  \n",
      " Annual turnover of Buyer :- 50,00,00,000\n",
      "6 Company Name :- Pobjeda :\n",
      " Type of Co-operation :- OutSourcing \n",
      " Type of Product they are Intrested to buy:- Casting  \n",
      " Annual turnover of Buyer :- 50,00,00,000\n",
      "7 Company Name :- Fonder shell :\n",
      " Type of Co-operation :- OutSourcing \n",
      " Type of Product they are Intrested to buy:- Casting  \n",
      " Annual turnover of Buyer :- 50,00,00,000\n",
      "8 Company Name :- VALEO :\n",
      " Type of Co-operation :- OutSourcing \n",
      " Type of Product they are Intrested to buy:- Casting  \n",
      " Annual turnover of Buyer :- 50,00,00,000\n",
      "9 Company Name :- KNORR B :\n",
      " Type of Co-operation :- OutSourcing \n",
      " Type of Product they are Intrested to buy:- Casting  \n",
      " Annual turnover of Buyer :- 50,00,00,000\n",
      "10 Company Name :- CAPI GROUP  :\n",
      " Type of Co-operation :- OutSourcing \n",
      " Type of Product they are Intrested to buy:- Casting  \n",
      " Annual turnover of Buyer :- 50,00,00,000\n",
      "11 Company Name :- Cummins  :\n",
      " Type of Co-operation :- OutSourcing \n",
      " Type of Product they are Intrested to buy:- Casting  \n",
      " Annual turnover of Buyer :- 50,00,00,000\n",
      "12 Company Name :- TNG  :\n",
      " Type of Co-operation :- OutSourcing \n",
      " Type of Product they are Intrested to buy:- Casting  \n",
      " Annual turnover of Buyer :- 50,00,00,000\n",
      "13 Company Name :- BONFIGLIOLI :\n",
      " Type of Co-operation :- OutSourcing \n",
      " Type of Product they are Intrested to buy:- Casting  \n",
      " Annual turnover of Buyer :- 50,00,00,000\n",
      "14 Company Name :- VINFAST  :\n",
      " Type of Co-operation :- OutSourcing \n",
      " Type of Product they are Intrested to buy:- Casting  \n",
      " Annual turnover of Buyer :- 50,00,00,000\n",
      "15 Company Name :- SONALO HORIZONTE :\n",
      " Type of Co-operation :- OutSourcing \n",
      " Type of Product they are Intrested to buy:- Casting  \n",
      " Annual turnover of Buyer :- 50,00,00,000\n",
      "16 Company Name :- JG AUTOMOTIVE :\n",
      " Type of Co-operation :- OutSourcing \n",
      " Type of Product they are Intrested to buy:- Casting  \n",
      " Annual turnover of Buyer :- 50,00,00,000\n",
      "17 Company Name :- SOLENO :\n",
      " Type of Co-operation :- OutSourcing \n",
      " Type of Product they are Intrested to buy:- Casting  \n",
      " Annual turnover of Buyer :- 50,00,00,000\n",
      "18 Company Name :- AMUFER :\n",
      " Type of Co-operation :- OutSourcing \n",
      " Type of Product they are Intrested to buy:- Casting  \n",
      " Annual turnover of Buyer :- 50,00,00,000\n",
      "19 Company Name :- AGCO :\n",
      " Type of Co-operation :- OutSourcing \n",
      " Type of Product they are Intrested to buy:- Casting  \n",
      " Annual turnover of Buyer :- 50,00,00,000\n",
      "20 Company Name :- DANA  :\n",
      " Type of Co-operation :- OutSourcing \n",
      " Type of Product they are Intrested to buy:- Casting  \n",
      " Annual turnover of Buyer :- 50,00,00,000\n",
      "21 Company Name :- DANA  :\n",
      " Type of Co-operation :- OutSourcing \n",
      " Type of Product they are Intrested to buy:- Casting  \n",
      " Annual turnover of Buyer :- 50,00,00,000\n",
      "22 Company Name :- Kinglon Group :\n",
      " Type of Co-operation :- OutSourcing \n",
      " Type of Product they are Intrested to buy:- Casting  \n",
      " Annual turnover of Buyer :- 50,00,00,000\n",
      "23 Company Name :- Maschio-Gaspardo :\n",
      " Type of Co-operation :- OutSourcing \n",
      " Type of Product they are Intrested to buy:- Casting  \n",
      " Annual turnover of Buyer :- 50,00,00,000\n",
      "24 Company Name :-  SC CAROMET SA :\n",
      " Type of Co-operation :- OutSourcing \n",
      " Type of Product they are Intrested to buy:- Casting  \n",
      " Annual turnover of Buyer :- 50,00,00,000\n",
      "25 Company Name :- FerryTech pvt. ltd. :\n",
      " Type of Co-operation :- OutSourcing \n",
      " Type of Product they are Intrested to buy:- Casting  \n",
      " Annual turnover of Buyer :- 50,00,00,000\n",
      "26 Company Name :- Alstom SA :\n",
      " Type of Co-operation :- OutSourcing \n",
      " Type of Product they are Intrested to buy:- Casting  \n",
      " Annual turnover of Buyer :- 50,00,00,000\n",
      "27 Company Name :- Cast Steel Products :\n",
      " Type of Co-operation :- OutSourcing \n",
      " Type of Product they are Intrested to buy:- Casting  \n",
      " Annual turnover of Buyer :- 50,00,00,000\n",
      "28 Company Name :- Cast Steel Products :\n",
      " Type of Co-operation :- OutSourcing \n",
      " Type of Product they are Intrested to buy:- Casting  \n",
      " Annual turnover of Buyer :- 50,00,00,000\n",
      "29 Company Name :- Traktionssysteme Austria :\n",
      " Type of Co-operation :- OutSourcing \n",
      " Type of Product they are Intrested to buy:- Casting  \n",
      " Annual turnover of Buyer :- 50,00,00,000\n"
     ]
    }
   ],
   "source": [
    "\n",
    "print('Movies suggested for you : \\n')\n",
    "\n",
    "i = 1\n",
    "\n",
    "for movie in sorted_similar_clients:\n",
    "  index = movie[0]\n",
    "  title_from_index = crescendo_data[crescendo_data.index==index]['foreign_company_name'].values[0]\n",
    "  co_operaion_from_index = crescendo_data[crescendo_data.index==index]['type_of_co_operation'].values[0]\n",
    "  product_name_from_index = crescendo_data[crescendo_data.index==index]['product_name'].values[0]\n",
    "  annual_turnover_from_index = crescendo_data[crescendo_data.index==index]['annual_tunover'].values[0]\n",
    "  if (i<30):\n",
    "    print(i, 'Company Name :-',title_from_index,':\\n Type of Co-operation :-',co_operaion_from_index,'\\n Type of Product they are Intrested to buy:-',product_name_from_index,'\\n Annual turnover of Buyer :-',annual_turnover_from_index)\n",
    "    i+=1"
   ]
  },
  {
   "cell_type": "code",
   "execution_count": 31,
   "id": "da425713",
   "metadata": {},
   "outputs": [
    {
     "name": "stdout",
     "output_type": "stream",
     "text": [
      " Enter your favourite client name : zf group\n",
      "Movies suggested for you : \n",
      "\n",
      "1 Company Name :- Festo :\n",
      " Type of Co-operation :- OutSourcing \n",
      " Type of Product they are Intrested to buy:- Casting  \n",
      " Annual turnover of Buyer :- 50,00,00,000\n",
      "2 Company Name :- ZF Group :\n",
      " Type of Co-operation :- OutSourcing \n",
      " Type of Product they are Intrested to buy:- Casting  \n",
      " Annual turnover of Buyer :- 50,00,00,000\n",
      "3 Company Name :- AVK Group :\n",
      " Type of Co-operation :- OutSourcing \n",
      " Type of Product they are Intrested to buy:- Casting  \n",
      " Annual turnover of Buyer :- 50,00,00,000\n",
      "4 Company Name :- Siemens :\n",
      " Type of Co-operation :- OutSourcing \n",
      " Type of Product they are Intrested to buy:- Casting  \n",
      " Annual turnover of Buyer :- 50,00,00,000\n",
      "5 Company Name :- Newbay Foundry :\n",
      " Type of Co-operation :- OutSourcing \n",
      " Type of Product they are Intrested to buy:- Casting  \n",
      " Annual turnover of Buyer :- 50,00,00,000\n",
      "6 Company Name :- Pobjeda :\n",
      " Type of Co-operation :- OutSourcing \n",
      " Type of Product they are Intrested to buy:- Casting  \n",
      " Annual turnover of Buyer :- 50,00,00,000\n",
      "7 Company Name :- Fonder shell :\n",
      " Type of Co-operation :- OutSourcing \n",
      " Type of Product they are Intrested to buy:- Casting  \n",
      " Annual turnover of Buyer :- 50,00,00,000\n",
      "8 Company Name :- VALEO :\n",
      " Type of Co-operation :- OutSourcing \n",
      " Type of Product they are Intrested to buy:- Casting  \n",
      " Annual turnover of Buyer :- 50,00,00,000\n",
      "9 Company Name :- KNORR B :\n",
      " Type of Co-operation :- OutSourcing \n",
      " Type of Product they are Intrested to buy:- Casting  \n",
      " Annual turnover of Buyer :- 50,00,00,000\n",
      "10 Company Name :- CAPI GROUP  :\n",
      " Type of Co-operation :- OutSourcing \n",
      " Type of Product they are Intrested to buy:- Casting  \n",
      " Annual turnover of Buyer :- 50,00,00,000\n",
      "11 Company Name :- Cummins  :\n",
      " Type of Co-operation :- OutSourcing \n",
      " Type of Product they are Intrested to buy:- Casting  \n",
      " Annual turnover of Buyer :- 50,00,00,000\n",
      "12 Company Name :- TNG  :\n",
      " Type of Co-operation :- OutSourcing \n",
      " Type of Product they are Intrested to buy:- Casting  \n",
      " Annual turnover of Buyer :- 50,00,00,000\n",
      "13 Company Name :- BONFIGLIOLI :\n",
      " Type of Co-operation :- OutSourcing \n",
      " Type of Product they are Intrested to buy:- Casting  \n",
      " Annual turnover of Buyer :- 50,00,00,000\n",
      "14 Company Name :- VINFAST  :\n",
      " Type of Co-operation :- OutSourcing \n",
      " Type of Product they are Intrested to buy:- Casting  \n",
      " Annual turnover of Buyer :- 50,00,00,000\n",
      "15 Company Name :- SONALO HORIZONTE :\n",
      " Type of Co-operation :- OutSourcing \n",
      " Type of Product they are Intrested to buy:- Casting  \n",
      " Annual turnover of Buyer :- 50,00,00,000\n",
      "16 Company Name :- JG AUTOMOTIVE :\n",
      " Type of Co-operation :- OutSourcing \n",
      " Type of Product they are Intrested to buy:- Casting  \n",
      " Annual turnover of Buyer :- 50,00,00,000\n",
      "17 Company Name :- SOLENO :\n",
      " Type of Co-operation :- OutSourcing \n",
      " Type of Product they are Intrested to buy:- Casting  \n",
      " Annual turnover of Buyer :- 50,00,00,000\n",
      "18 Company Name :- AMUFER :\n",
      " Type of Co-operation :- OutSourcing \n",
      " Type of Product they are Intrested to buy:- Casting  \n",
      " Annual turnover of Buyer :- 50,00,00,000\n",
      "19 Company Name :- AGCO :\n",
      " Type of Co-operation :- OutSourcing \n",
      " Type of Product they are Intrested to buy:- Casting  \n",
      " Annual turnover of Buyer :- 50,00,00,000\n",
      "20 Company Name :- DANA  :\n",
      " Type of Co-operation :- OutSourcing \n",
      " Type of Product they are Intrested to buy:- Casting  \n",
      " Annual turnover of Buyer :- 50,00,00,000\n",
      "21 Company Name :- DANA  :\n",
      " Type of Co-operation :- OutSourcing \n",
      " Type of Product they are Intrested to buy:- Casting  \n",
      " Annual turnover of Buyer :- 50,00,00,000\n",
      "22 Company Name :- Kinglon Group :\n",
      " Type of Co-operation :- OutSourcing \n",
      " Type of Product they are Intrested to buy:- Casting  \n",
      " Annual turnover of Buyer :- 50,00,00,000\n",
      "23 Company Name :- Maschio-Gaspardo :\n",
      " Type of Co-operation :- OutSourcing \n",
      " Type of Product they are Intrested to buy:- Casting  \n",
      " Annual turnover of Buyer :- 50,00,00,000\n",
      "24 Company Name :-  SC CAROMET SA :\n",
      " Type of Co-operation :- OutSourcing \n",
      " Type of Product they are Intrested to buy:- Casting  \n",
      " Annual turnover of Buyer :- 50,00,00,000\n",
      "25 Company Name :- FerryTech pvt. ltd. :\n",
      " Type of Co-operation :- OutSourcing \n",
      " Type of Product they are Intrested to buy:- Casting  \n",
      " Annual turnover of Buyer :- 50,00,00,000\n",
      "26 Company Name :- Alstom SA :\n",
      " Type of Co-operation :- OutSourcing \n",
      " Type of Product they are Intrested to buy:- Casting  \n",
      " Annual turnover of Buyer :- 50,00,00,000\n",
      "27 Company Name :- Cast Steel Products :\n",
      " Type of Co-operation :- OutSourcing \n",
      " Type of Product they are Intrested to buy:- Casting  \n",
      " Annual turnover of Buyer :- 50,00,00,000\n",
      "28 Company Name :- Cast Steel Products :\n",
      " Type of Co-operation :- OutSourcing \n",
      " Type of Product they are Intrested to buy:- Casting  \n",
      " Annual turnover of Buyer :- 50,00,00,000\n",
      "29 Company Name :- Traktionssysteme Austria :\n",
      " Type of Co-operation :- OutSourcing \n",
      " Type of Product they are Intrested to buy:- Casting  \n",
      " Annual turnover of Buyer :- 50,00,00,000\n",
      "30 Company Name :- Stadler Rail :\n",
      " Type of Co-operation :- OutSourcing \n",
      " Type of Product they are Intrested to buy:- Casting  \n",
      " Annual turnover of Buyer :- 50,00,00,000\n",
      "31 Company Name :- Enorossi  :\n",
      " Type of Co-operation :- OutSourcing \n",
      " Type of Product they are Intrested to buy:- Casting  \n",
      " Annual turnover of Buyer :- 50,00,00,000\n",
      "32 Company Name :- Sumitomo Drive Technology :\n",
      " Type of Co-operation :- OutSourcing \n",
      " Type of Product they are Intrested to buy:- Casting  \n",
      " Annual turnover of Buyer :- 50,00,00,000\n",
      "33 Company Name :- sermac pumps :\n",
      " Type of Co-operation :- OutSourcing \n",
      " Type of Product they are Intrested to buy:- Casting  \n",
      " Annual turnover of Buyer :- 50,00,00,000\n",
      "34 Company Name :- Teknorot - Steering and Suspension Parts :\n",
      " Type of Co-operation :- OutSourcing \n",
      " Type of Product they are Intrested to buy:- Casting  \n",
      " Annual turnover of Buyer :- 50,00,00,000\n",
      "35 Company Name :-  TÃ…Â½V GREDELJ d.o.o. :\n",
      " Type of Co-operation :- OutSourcing \n",
      " Type of Product they are Intrested to buy:- Casting  \n",
      " Annual turnover of Buyer :- 90,00,00,000\n",
      "36 Company Name :- JIANGSU RAILTECO EQUIPMENT CO., LTD. :\n",
      " Type of Co-operation :- OutSourcing \n",
      " Type of Product they are Intrested to buy:- Casting  \n",
      " Annual turnover of Buyer :- 90,00,00,000\n",
      "37 Company Name :- Ã…Â invoz d.o.o.  :\n",
      " Type of Co-operation :- OutSourcing \n",
      " Type of Product they are Intrested to buy:- Casting  \n",
      " Annual turnover of Buyer :- 90,00,00,000\n",
      "38 Company Name :- Mitsubishi Turbocharger Asia Co. Ltd. :\n",
      " Type of Co-operation :- OutSourcing \n",
      " Type of Product they are Intrested to buy:- Casting  \n",
      " Annual turnover of Buyer :- 90,00,00,000\n",
      "39 Company Name :- Akina Makina :\n",
      " Type of Co-operation :- OutSourcing \n",
      " Type of Product they are Intrested to buy:- Casting  \n",
      " Annual turnover of Buyer :- 90,00,00,000\n",
      "40 Company Name :- Greenbrier :\n",
      " Type of Co-operation :- OutSourcing \n",
      " Type of Product they are Intrested to buy:- Casting  \n",
      " Annual turnover of Buyer :- 90,00,00,000\n",
      "41 Company Name :- Greenbrier  :\n",
      " Type of Co-operation :- OutSourcing \n",
      " Type of Product they are Intrested to buy:- Casting  \n",
      " Annual turnover of Buyer :- 90,00,00,000\n",
      "42 Company Name :- Akin Makina  :\n",
      " Type of Co-operation :- OutSourcing \n",
      " Type of Product they are Intrested to buy:- Casting  \n",
      " Annual turnover of Buyer :- 90,00,00,000\n",
      "43 Company Name :- Greenbrier  :\n",
      " Type of Co-operation :- OutSourcing \n",
      " Type of Product they are Intrested to buy:- Casting  \n",
      " Annual turnover of Buyer :- 90,00,00,000\n",
      "44 Company Name :- Akin Makina  :\n",
      " Type of Co-operation :- OutSourcing \n",
      " Type of Product they are Intrested to buy:- Casting  \n",
      " Annual turnover of Buyer :- 90,00,00,000\n",
      "45 Company Name :- Naledi Ringrollers :\n",
      " Type of Co-operation :- OutSourcing \n",
      " Type of Product they are Intrested to buy:- Casting  \n",
      " Annual turnover of Buyer :- 90,00,00,000\n",
      "46 Company Name :- Naledi Ringrollers :\n",
      " Type of Co-operation :- OutSourcing \n",
      " Type of Product they are Intrested to buy:- Casting  \n",
      " Annual turnover of Buyer :- 90,00,00,000\n",
      "47 Company Name :- woosu :\n",
      " Type of Co-operation :- OutSourcing \n",
      " Type of Product they are Intrested to buy:- Casting  \n",
      " Annual turnover of Buyer :- 90,00,00,000\n",
      "48 Company Name :- Airpol :\n",
      " Type of Co-operation :- OutSourcing \n",
      " Type of Product they are Intrested to buy:- Casting  \n",
      " Annual turnover of Buyer :- 90,00,00,000\n",
      "49 Company Name :- Denso :\n",
      " Type of Co-operation :- OutSourcing \n",
      " Type of Product they are Intrested to buy:- Casting  \n",
      " Annual turnover of Buyer :- 90,00,00,000\n"
     ]
    }
   ],
   "source": [
    "client_name = input(' Enter your favourite client name : ')\n",
    "\n",
    "find_close_match = difflib.get_close_matches(client_name, list_of_all_clients)\n",
    "\n",
    "close_match = find_close_match[0]\n",
    "\n",
    "index_of_the_client = crescendo_data[crescendo_data.foreign_company_name == close_match]['ï»¿index'].values[0]\n",
    "\n",
    "similarity_score = list(enumerate(similarity[index_of_the_client]))\n",
    "\n",
    "sorted_similar_movies = sorted(similarity_score, key = lambda x:x[1], reverse = True) \n",
    "\n",
    "print('Movies suggested for you : \\n')\n",
    "\n",
    "i = 1\n",
    "\n",
    "for movie in sorted_similar_clients:\n",
    "  index = movie[0]\n",
    "  title_from_index = crescendo_data[crescendo_data.index==index]['foreign_company_name'].values[0]\n",
    "  co_operaion_from_index = crescendo_data[crescendo_data.index==index]['type_of_co_operation'].values[0]\n",
    "  product_name_from_index = crescendo_data[crescendo_data.index==index]['product_name'].values[0]\n",
    "  annual_turnover_from_index = crescendo_data[crescendo_data.index==index]['annual_tunover'].values[0]\n",
    "  if (i<50):\n",
    "    print(i, 'Company Name :-',title_from_index,':\\n Type of Co-operation :-',co_operaion_from_index,'\\n Type of Product they are Intrested to buy:-',product_name_from_index,'\\n Annual turnover of Buyer :-',annual_turnover_from_index)\n",
    "    i+=1\n"
   ]
  },
  {
   "cell_type": "code",
   "execution_count": 38,
   "id": "b49e7e8e",
   "metadata": {},
   "outputs": [
    {
     "name": "stdout",
     "output_type": "stream",
     "text": [
      "zf group\n",
      "Movies suggested for you : \n",
      "\n",
      "1 Company Name :- Festo :\n",
      " Type of Co-operation :- OutSourcing \n",
      " Type of Product they are Intrested to buy:- Casting  \n",
      " Annual turnover of Buyer :- 50,00,00,000\n",
      "2 Company Name :- ZF Group :\n",
      " Type of Co-operation :- OutSourcing \n",
      " Type of Product they are Intrested to buy:- Casting  \n",
      " Annual turnover of Buyer :- 50,00,00,000\n",
      "3 Company Name :- AVK Group :\n",
      " Type of Co-operation :- OutSourcing \n",
      " Type of Product they are Intrested to buy:- Casting  \n",
      " Annual turnover of Buyer :- 50,00,00,000\n"
     ]
    }
   ],
   "source": [
    "def recomend_suitable_clients(client_name):\n",
    "    find_close_match = difflib.get_close_matches(client_name, list_of_all_clients)\n",
    "    close_match = find_close_match[0]\n",
    "    index_of_the_client = crescendo_data[crescendo_data.foreign_company_name == close_match]['ï»¿index'].values[0]\n",
    "    similarity_score = list(enumerate(similarity[index_of_the_client]))\n",
    "    sorted_similar_movies = sorted(similarity_score, key = lambda x:x[1], reverse = True) \n",
    "    print('Movies suggested for you : \\n')\n",
    "    i = 1\n",
    "    for movie in sorted_similar_clients:\n",
    "        index = movie[0]\n",
    "        title_from_index = crescendo_data[crescendo_data.index==index]['foreign_company_name'].values[0]\n",
    "        co_operaion_from_index = crescendo_data[crescendo_data.index==index]['type_of_co_operation'].values[0]\n",
    "        product_name_from_index = crescendo_data[crescendo_data.index==index]['product_name'].values[0]\n",
    "        annual_turnover_from_index = crescendo_data[crescendo_data.index==index]['annual_tunover'].values[0]\n",
    "        if (i<4):\n",
    "            print(i, 'Company Name :-',title_from_index,':\\n Type of Co-operation :-',co_operaion_from_index,'\\n Type of Product they are Intrested to buy:-',product_name_from_index,'\\n Annual turnover of Buyer :-',annual_turnover_from_index)\n",
    "            i+=1\n",
    "recomend_suitable_clients(input())"
   ]
  },
  {
   "cell_type": "code",
   "execution_count": null,
   "id": "e166196e",
   "metadata": {},
   "outputs": [],
   "source": [
    "import pickle"
   ]
  },
  {
   "cell_type": "code",
   "execution_count": null,
   "id": "6850250a",
   "metadata": {},
   "outputs": [],
   "source": [
    "pickle.dump(crescendo_data,open(\"recomend_suitable_clients.pkl\",\"wb\"))\n",
    "pickle.dump(similarity,open(\"similarity.pkl\",\"wb\"))"
   ]
  }
 ],
 "metadata": {
  "kernelspec": {
   "display_name": "Python 3 (ipykernel)",
   "language": "python",
   "name": "python3"
  },
  "language_info": {
   "codemirror_mode": {
    "name": "ipython",
    "version": 3
   },
   "file_extension": ".py",
   "mimetype": "text/x-python",
   "name": "python",
   "nbconvert_exporter": "python",
   "pygments_lexer": "ipython3",
   "version": "3.9.13"
  }
 },
 "nbformat": 4,
 "nbformat_minor": 5
}
